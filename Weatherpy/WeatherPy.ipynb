{
 "cells": [
  {
   "cell_type": "markdown",
   "metadata": {},
   "source": [
    "# WeatherPy\n",
    "----\n",
    "\n",
    "#### Note\n",
    "* Instructions have been included for each segment. You do not have to follow them exactly, but they are included to help you think through the steps."
   ]
  },
  {
   "cell_type": "code",
   "execution_count": null,
   "metadata": {
    "scrolled": true
   },
   "outputs": [],
   "source": [
    "# Dependencies and Setup\n",
    "import matplotlib.pyplot as plt\n",
    "from scipy import stats\n",
    "import pandas as pd\n",
    "import numpy as np\n",
    "import requests\n",
    "import time\n",
    "from scipy.stats import linregress\n",
    "\n",
    "# Import API key\n",
    "from api_keys import weather_api_key\n",
    "# Incorporated citipy to determine city based on latitude and longitude\n",
    "from citipy import citipy\n",
    "\n",
    "# Output File (CSV)\n",
    "output_data_file = \"../output_data/cities.csv\"\n",
    "\n",
    "# Range of latitudes and longitudes\n",
    "lat_range = (-90, 90)\n",
    "lng_range = (-180, 180)"
   ]
  },
  {
   "cell_type": "markdown",
   "metadata": {},
   "source": [
    "## Generate Cities List"
   ]
  },
  {
   "cell_type": "code",
   "execution_count": 2,
   "metadata": {},
   "outputs": [
    {
     "data": {
      "text/plain": [
       "610"
      ]
     },
     "execution_count": 2,
     "metadata": {},
     "output_type": "execute_result"
    }
   ],
   "source": [
    "# List for holding lat_lngs and cities\n",
    "lat_lngs = []\n",
    "cities = []\n",
    "\n",
    "# Create a set of random lat and lng combinations\n",
    "lats = np.random.uniform(lat_range[0], lat_range[1], size=1500)\n",
    "lngs = np.random.uniform(lng_range[0], lng_range[1], size=1500)\n",
    "lat_lngs = zip(lats, lngs)\n",
    "\n",
    "# Identify nearest city for each lat, lng combination\n",
    "for lat_lng in lat_lngs:\n",
    "    city = citipy.nearest_city(lat_lng[0], lat_lng[1]).city_name\n",
    "    \n",
    "    # If the city is unique, then add it to a our cities list\n",
    "    if city not in cities:\n",
    "        cities.append(city)\n",
    "\n",
    "# Print the city count to confirm sufficient count\n",
    "len(cities)"
   ]
  },
  {
   "cell_type": "code",
   "execution_count": 3,
   "metadata": {
    "scrolled": true
   },
   "outputs": [
    {
     "name": "stdout",
     "output_type": "stream",
     "text": [
      "{'coord': {'lon': -80.1937, 'lat': 25.7743}, 'weather': [{'id': 803, 'main': 'Clouds', 'description': 'broken clouds', 'icon': '04d'}], 'base': 'stations', 'main': {'temp': 302.16, 'feels_like': 306.87, 'temp_min': 300.15, 'temp_max': 303.17, 'pressure': 1015, 'humidity': 75}, 'visibility': 10000, 'wind': {'speed': 1.79, 'deg': 148, 'gust': 3.58}, 'clouds': {'all': 75}, 'dt': 1627342681, 'sys': {'type': 2, 'id': 2009435, 'country': 'US', 'sunrise': 1627296249, 'sunset': 1627344610}, 'timezone': -14400, 'id': 4164138, 'name': 'Miami', 'cod': 200}\n"
     ]
    }
   ],
   "source": [
    "url = \"http://api.openweathermap.org/data/2.5/weather?APPID=\"+weather_api_key\n",
    "response = requests.get(url +\"&q=Miami\").json()\n",
    "print(response)"
   ]
  },
  {
   "cell_type": "markdown",
   "metadata": {},
   "source": [
    "### Perform API Calls\n",
    "* Perform a weather check on each city using a series of successive API calls.\n",
    "* Include a print log of each city as it'sbeing processed (with the city number and city name).\n"
   ]
  },
  {
   "cell_type": "code",
   "execution_count": 15,
   "metadata": {
    "scrolled": true
   },
   "outputs": [],
   "source": [
    "\n",
    "# set up lists to hold reponse info\n",
    "city_name = []\n",
    "lat = []\n",
    "lon =[]\n",
    "max_temp = []\n",
    "humidity = []\n",
    "wind_speed  = []\n",
    "cloudiness = []\n",
    "wind_speed =[]\n",
    "country =[]\n",
    "city_id = []\n",
    "date = []\n",
    "units = \"imperial\"\n",
    "set_count = 1\n",
    "record_count = 1\n",
    "# Loop through the list of cities and perform a request for data on each\n",
    "\n"
   ]
  },
  {
   "cell_type": "code",
   "execution_count": 5,
   "metadata": {},
   "outputs": [
    {
     "name": "stdout",
     "output_type": "stream",
     "text": [
      "Processing Record 1 of Set 1 | sobolevo\n",
      "Processing Record 2 of Set 1 | punta arenas\n",
      "Processing Record 3 of Set 1 | albany\n",
      "Processing Record 4 of Set 1 | baykit\n",
      "Processing Record 5 of Set 1 | saskylakh\n",
      "Processing Record 6 of Set 1 | hermanus\n",
      "Processing Record 7 of Set 1 | busselton\n",
      "Processing Record 8 of Set 1 | havre-saint-pierre\n",
      "Processing Record 9 of Set 1 | chokurdakh\n",
      "Processing Record 10 of Set 1 | broome\n",
      "Processing Record 11 of Set 1 | taree\n",
      "Processing Record 12 of Set 1 | vanavara\n",
      "Processing Record 13 of Set 1 | port lincoln\n",
      "Processing Record 14 of Set 1 | pisco\n",
      "Processing Record 15 of Set 1 | gorom-gorom\n",
      "Processing Record 16 of Set 1 | pimentel\n",
      "Processing Record 17 of Set 1 | hilo\n",
      "Processing Record 18 of Set 1 | kapaa\n",
      "Processing Record 19 of Set 1 | ancud\n",
      "Processing Record 20 of Set 1 | laguna\n",
      "Processing Record 21 of Set 1 | sindor\n",
      "Processing Record 22 of Set 1 | baruun-urt\n",
      "Processing Record 23 of Set 1 | ushuaia\n",
      "Processing Record 24 of Set 1 | bluff\n",
      "Processing Record 25 of Set 1 | golden\n",
      "Processing Record 26 of Set 1 | butaritari\n",
      "Processing Record 27 of Set 1 | provideniya\n",
      "Processing Record 28 of Set 1 | lorengau\n",
      "Processing Record 29 of Set 1 | russell\n",
      "Processing Record 30 of Set 1 | murovane\n",
      "Processing Record 31 of Set 1 | haines junction\n",
      "Processing Record 32 of Set 1 | qaanaaq\n",
      "Processing Record 33 of Set 1 | new norfolk\n",
      "Processing Record 34 of Set 1 | east london\n",
      "Processing Record 35 of Set 1 | port alfred\n",
      "Processing Record 36 of Set 1 | geraldton\n",
      "Processing Record 37 of Set 1 | rikitea\n",
      "Processing Record 38 of Set 1 | marcona\n",
      "City not found. Skipping...\n",
      "Processing Record 39 of Set 1 | nova londrina\n",
      "Processing Record 40 of Set 1 | bambous virieux\n",
      "Processing Record 41 of Set 1 | airai\n",
      "Processing Record 42 of Set 1 | belushya guba\n",
      "City not found. Skipping...\n",
      "Processing Record 43 of Set 1 | carnarvon\n",
      "Processing Record 44 of Set 1 | kwinana\n",
      "Processing Record 45 of Set 1 | mataura\n",
      "Processing Record 46 of Set 1 | perene\n",
      "Processing Record 47 of Set 1 | kaitangata\n",
      "Processing Record 48 of Set 1 | adrar\n",
      "Processing Record 49 of Set 1 | ashland\n",
      "Processing Record 50 of Set 1 | cuenca\n",
      "Processing Record 0 of Set 2 | cape town\n",
      "Processing Record 1 of Set 2 | luderitz\n",
      "Processing Record 2 of Set 2 | taolanaro\n",
      "City not found. Skipping...\n",
      "Processing Record 3 of Set 2 | klaksvik\n",
      "Processing Record 4 of Set 2 | maniitsoq\n",
      "Processing Record 5 of Set 2 | yerbogachen\n",
      "Processing Record 6 of Set 2 | yellowknife\n",
      "Processing Record 7 of Set 2 | vaini\n",
      "Processing Record 8 of Set 2 | krasnoselkup\n",
      "Processing Record 9 of Set 2 | pecos\n",
      "Processing Record 10 of Set 2 | wajir\n",
      "Processing Record 11 of Set 2 | tiksi\n",
      "Processing Record 12 of Set 2 | flinders\n",
      "Processing Record 13 of Set 2 | dingle\n",
      "Processing Record 14 of Set 2 | atuona\n",
      "Processing Record 15 of Set 2 | iskateley\n",
      "Processing Record 16 of Set 2 | tuatapere\n",
      "Processing Record 17 of Set 2 | gravdal\n",
      "Processing Record 18 of Set 2 | avarua\n",
      "Processing Record 19 of Set 2 | kabare\n",
      "Processing Record 20 of Set 2 | upernavik\n",
      "Processing Record 21 of Set 2 | malwan\n",
      "City not found. Skipping...\n",
      "Processing Record 22 of Set 2 | andi\n",
      "Processing Record 23 of Set 2 | ponta do sol\n",
      "Processing Record 24 of Set 2 | yar-sale\n",
      "Processing Record 25 of Set 2 | ostersund\n",
      "Processing Record 26 of Set 2 | sitka\n",
      "Processing Record 27 of Set 2 | illoqqortoormiut\n",
      "City not found. Skipping...\n",
      "Processing Record 28 of Set 2 | chuy\n",
      "Processing Record 29 of Set 2 | vila franca do campo\n",
      "Processing Record 30 of Set 2 | saint george\n",
      "Processing Record 31 of Set 2 | dikson\n",
      "Processing Record 32 of Set 2 | mahebourg\n",
      "Processing Record 33 of Set 2 | kavieng\n",
      "Processing Record 34 of Set 2 | port elizabeth\n",
      "Processing Record 35 of Set 2 | vostok\n",
      "Processing Record 36 of Set 2 | arlit\n",
      "Processing Record 37 of Set 2 | verkhnyaya balkariya\n",
      "Processing Record 38 of Set 2 | sorland\n",
      "Processing Record 39 of Set 2 | pevek\n",
      "Processing Record 40 of Set 2 | vestmannaeyjar\n",
      "Processing Record 41 of Set 2 | ribeira grande\n",
      "Processing Record 42 of Set 2 | asau\n",
      "Processing Record 43 of Set 2 | barrow\n",
      "Processing Record 44 of Set 2 | esil\n",
      "Processing Record 45 of Set 2 | lufilufi\n",
      "Processing Record 46 of Set 2 | chapais\n",
      "Processing Record 47 of Set 2 | puerto ayora\n",
      "Processing Record 48 of Set 2 | vao\n",
      "Processing Record 49 of Set 2 | tasiilaq\n",
      "Processing Record 0 of Set 3 | castro\n",
      "Processing Record 1 of Set 3 | ilulissat\n",
      "Processing Record 2 of Set 3 | tautira\n",
      "Processing Record 3 of Set 3 | de-kastri\n",
      "Processing Record 4 of Set 3 | severo-kurilsk\n",
      "Processing Record 5 of Set 3 | baymak\n",
      "Processing Record 6 of Set 3 | chegdomyn\n",
      "Processing Record 7 of Set 3 | irbeyskoye\n",
      "Processing Record 8 of Set 3 | burriana\n",
      "Processing Record 9 of Set 3 | slave lake\n",
      "Processing Record 10 of Set 3 | tongsa\n",
      "City not found. Skipping...\n",
      "Processing Record 11 of Set 3 | kodiak\n",
      "Processing Record 12 of Set 3 | biltine\n",
      "Processing Record 13 of Set 3 | tsihombe\n",
      "City not found. Skipping...\n",
      "Processing Record 14 of Set 3 | vardo\n",
      "Processing Record 15 of Set 3 | umm jarr\n",
      "City not found. Skipping...\n",
      "Processing Record 16 of Set 3 | alice springs\n",
      "Processing Record 17 of Set 3 | hobart\n",
      "Processing Record 18 of Set 3 | nikolskoye\n",
      "Processing Record 19 of Set 3 | malanje\n",
      "Processing Record 20 of Set 3 | sainte-anne-des-monts\n",
      "Processing Record 21 of Set 3 | atbasar\n",
      "Processing Record 22 of Set 3 | maldonado\n",
      "Processing Record 23 of Set 3 | ferme-neuve\n",
      "Processing Record 24 of Set 3 | maneadero\n",
      "Processing Record 25 of Set 3 | binon-an\n",
      "Processing Record 26 of Set 3 | lagoa\n",
      "Processing Record 27 of Set 3 | stornoway\n",
      "Processing Record 28 of Set 3 | ngukurr\n",
      "City not found. Skipping...\n",
      "Processing Record 29 of Set 3 | lavrentiya\n",
      "Processing Record 30 of Set 3 | jacareacanga\n",
      "Processing Record 31 of Set 3 | copiapo\n",
      "Processing Record 32 of Set 3 | batagay-alyta\n",
      "Processing Record 33 of Set 3 | aleksandrov gay\n",
      "Processing Record 34 of Set 3 | santa isabel do rio negro\n",
      "Processing Record 35 of Set 3 | uyemskiy\n",
      "Processing Record 36 of Set 3 | jawhar\n",
      "Processing Record 37 of Set 3 | luanda\n",
      "Processing Record 38 of Set 3 | kieta\n",
      "Processing Record 39 of Set 3 | chikhli\n",
      "Processing Record 40 of Set 3 | havoysund\n",
      "Processing Record 41 of Set 3 | benjamin aceval\n",
      "Processing Record 42 of Set 3 | leeds\n",
      "Processing Record 43 of Set 3 | alofi\n",
      "Processing Record 44 of Set 3 | sioux lookout\n",
      "Processing Record 45 of Set 3 | san patricio\n",
      "Processing Record 46 of Set 3 | mitu\n",
      "Processing Record 47 of Set 3 | barentsburg\n",
      "City not found. Skipping...\n",
      "Processing Record 48 of Set 3 | zhigansk\n",
      "Processing Record 49 of Set 3 | waingapu\n",
      "Processing Record 0 of Set 4 | daru\n",
      "Processing Record 1 of Set 4 | souillac\n",
      "Processing Record 2 of Set 4 | goderich\n",
      "Processing Record 3 of Set 4 | yulara\n",
      "Processing Record 4 of Set 4 | kimbe\n",
      "Processing Record 5 of Set 4 | yialos\n",
      "City not found. Skipping...\n",
      "Processing Record 6 of Set 4 | sentyabrskiy\n",
      "City not found. Skipping...\n",
      "Processing Record 7 of Set 4 | constitucion\n",
      "Processing Record 8 of Set 4 | sibu\n",
      "Processing Record 9 of Set 4 | torbay\n",
      "Processing Record 10 of Set 4 | grand river south east\n",
      "City not found. Skipping...\n",
      "Processing Record 11 of Set 4 | makakilo city\n",
      "Processing Record 12 of Set 4 | traralgon\n",
      "Processing Record 13 of Set 4 | zyryanka\n",
      "Processing Record 14 of Set 4 | verkhnetulomskiy\n",
      "Processing Record 15 of Set 4 | bandarbeyla\n",
      "Processing Record 16 of Set 4 | mareeba\n",
      "Processing Record 17 of Set 4 | hualmay\n",
      "Processing Record 18 of Set 4 | along\n",
      "Processing Record 19 of Set 4 | carlsbad\n",
      "Processing Record 20 of Set 4 | flin flon\n",
      "Processing Record 21 of Set 4 | naze\n",
      "Processing Record 22 of Set 4 | altay\n",
      "Processing Record 23 of Set 4 | tortoli\n",
      "Processing Record 24 of Set 4 | nguiu\n",
      "City not found. Skipping...\n",
      "Processing Record 25 of Set 4 | angoche\n",
      "Processing Record 26 of Set 4 | tumannyy\n",
      "City not found. Skipping...\n",
      "Processing Record 27 of Set 4 | chikoy\n",
      "City not found. Skipping...\n",
      "Processing Record 28 of Set 4 | amderma\n",
      "City not found. Skipping...\n",
      "Processing Record 29 of Set 4 | bredasdorp\n",
      "Processing Record 30 of Set 4 | carutapera\n",
      "Processing Record 31 of Set 4 | redlands\n",
      "Processing Record 32 of Set 4 | katsuura\n",
      "Processing Record 33 of Set 4 | bubaque\n",
      "Processing Record 34 of Set 4 | tuktoyaktuk\n",
      "Processing Record 35 of Set 4 | khatanga\n",
      "Processing Record 36 of Set 4 | sikea\n",
      "City not found. Skipping...\n",
      "Processing Record 37 of Set 4 | nantucket\n"
     ]
    },
    {
     "name": "stdout",
     "output_type": "stream",
     "text": [
      "Processing Record 38 of Set 4 | bonavista\n",
      "Processing Record 39 of Set 4 | ostrovnoy\n",
      "Processing Record 40 of Set 4 | saleaula\n",
      "City not found. Skipping...\n",
      "Processing Record 41 of Set 4 | salair\n",
      "Processing Record 42 of Set 4 | dubbo\n",
      "Processing Record 43 of Set 4 | mar del plata\n",
      "Processing Record 44 of Set 4 | brae\n",
      "Processing Record 45 of Set 4 | taltal\n",
      "Processing Record 46 of Set 4 | mount hagen\n",
      "Processing Record 47 of Set 4 | dalby\n",
      "Processing Record 48 of Set 4 | touros\n",
      "Processing Record 49 of Set 4 | santa maria del oro\n",
      "Processing Record 0 of Set 5 | cayce\n",
      "Processing Record 1 of Set 5 | mauchline\n",
      "Processing Record 2 of Set 5 | lebu\n",
      "Processing Record 3 of Set 5 | korla\n",
      "Processing Record 4 of Set 5 | arraial do cabo\n",
      "Processing Record 5 of Set 5 | nauta\n",
      "Processing Record 6 of Set 5 | maghama\n",
      "City not found. Skipping...\n",
      "Processing Record 7 of Set 5 | smithers\n",
      "Processing Record 8 of Set 5 | hohhot\n",
      "Processing Record 9 of Set 5 | codrington\n",
      "Processing Record 10 of Set 5 | faanui\n",
      "Processing Record 11 of Set 5 | bilibino\n",
      "Processing Record 12 of Set 5 | santa fe\n",
      "Processing Record 13 of Set 5 | karamea\n",
      "City not found. Skipping...\n",
      "Processing Record 14 of Set 5 | hithadhoo\n",
      "Processing Record 15 of Set 5 | jieshou\n",
      "Processing Record 16 of Set 5 | karratha\n",
      "Processing Record 17 of Set 5 | kalabo\n",
      "Processing Record 18 of Set 5 | saint-georges\n",
      "Processing Record 19 of Set 5 | lakhimpur\n",
      "Processing Record 20 of Set 5 | bethel\n",
      "Processing Record 21 of Set 5 | palmer\n",
      "Processing Record 22 of Set 5 | birao\n",
      "Processing Record 23 of Set 5 | plessisville\n",
      "Processing Record 24 of Set 5 | guiratinga\n",
      "Processing Record 25 of Set 5 | panguna\n",
      "Processing Record 26 of Set 5 | jalu\n",
      "Processing Record 27 of Set 5 | ossora\n",
      "Processing Record 28 of Set 5 | paragominas\n",
      "Processing Record 29 of Set 5 | kushmurun\n",
      "Processing Record 30 of Set 5 | deputatskiy\n",
      "Processing Record 31 of Set 5 | matara\n",
      "Processing Record 32 of Set 5 | mitchell\n",
      "Processing Record 33 of Set 5 | shimoda\n",
      "Processing Record 34 of Set 5 | sibolga\n",
      "Processing Record 35 of Set 5 | hamilton\n",
      "Processing Record 36 of Set 5 | ruidoso\n",
      "Processing Record 37 of Set 5 | sao joao da barra\n",
      "Processing Record 38 of Set 5 | huanren\n",
      "Processing Record 39 of Set 5 | jamestown\n",
      "Processing Record 40 of Set 5 | skiathos\n",
      "Processing Record 41 of Set 5 | nola\n",
      "Processing Record 42 of Set 5 | zeya\n",
      "Processing Record 43 of Set 5 | saint-philippe\n",
      "Processing Record 44 of Set 5 | odienne\n",
      "Processing Record 45 of Set 5 | pangnirtung\n",
      "Processing Record 46 of Set 5 | manjacaze\n",
      "Processing Record 47 of Set 5 | kavaratti\n",
      "Processing Record 48 of Set 5 | trelew\n",
      "Processing Record 49 of Set 5 | binuangan\n",
      "Processing Record 0 of Set 6 | porto novo\n",
      "Processing Record 1 of Set 6 | saldanha\n",
      "Processing Record 2 of Set 6 | lolua\n",
      "City not found. Skipping...\n",
      "Processing Record 3 of Set 6 | wakkanai\n",
      "Processing Record 4 of Set 6 | kaeo\n",
      "Processing Record 5 of Set 6 | bengkulu\n",
      "Processing Record 6 of Set 6 | isangel\n",
      "Processing Record 7 of Set 6 | pochutla\n",
      "Processing Record 8 of Set 6 | port blair\n",
      "Processing Record 9 of Set 6 | darnah\n",
      "Processing Record 10 of Set 6 | unai\n",
      "Processing Record 11 of Set 6 | medvedka\n",
      "Processing Record 12 of Set 6 | mys shmidta\n",
      "City not found. Skipping...\n",
      "Processing Record 13 of Set 6 | chagda\n",
      "City not found. Skipping...\n",
      "Processing Record 14 of Set 6 | vredendal\n",
      "Processing Record 15 of Set 6 | mirante do paranapanema\n",
      "Processing Record 16 of Set 6 | cayenne\n",
      "Processing Record 17 of Set 6 | te anau\n",
      "Processing Record 18 of Set 6 | bambanglipuro\n",
      "Processing Record 19 of Set 6 | ampanihy\n",
      "Processing Record 20 of Set 6 | mahon\n",
      "Processing Record 21 of Set 6 | moerai\n",
      "Processing Record 22 of Set 6 | lowestoft\n",
      "Processing Record 23 of Set 6 | strezhevoy\n",
      "Processing Record 24 of Set 6 | cherskiy\n",
      "Processing Record 25 of Set 6 | mundo nuevo\n",
      "Processing Record 26 of Set 6 | santiago del estero\n",
      "Processing Record 27 of Set 6 | talovaya\n",
      "Processing Record 28 of Set 6 | ilorin\n",
      "Processing Record 29 of Set 6 | rocha\n",
      "Processing Record 30 of Set 6 | sile\n",
      "Processing Record 31 of Set 6 | tarko-sale\n",
      "Processing Record 32 of Set 6 | northam\n",
      "Processing Record 33 of Set 6 | quang ngai\n",
      "Processing Record 34 of Set 6 | namibe\n",
      "Processing Record 35 of Set 6 | vila do maio\n",
      "Processing Record 36 of Set 6 | tiruvottiyur\n",
      "City not found. Skipping...\n",
      "Processing Record 37 of Set 6 | berlevag\n",
      "Processing Record 38 of Set 6 | saint-pierre\n",
      "Processing Record 39 of Set 6 | swan hill\n",
      "Processing Record 40 of Set 6 | carauari\n",
      "Processing Record 41 of Set 6 | cradock\n",
      "Processing Record 42 of Set 6 | pabrade\n",
      "Processing Record 43 of Set 6 | boa vista\n",
      "Processing Record 44 of Set 6 | songkhla\n",
      "Processing Record 45 of Set 6 | acapulco\n",
      "Processing Record 46 of Set 6 | nhulunbuy\n",
      "Processing Record 47 of Set 6 | tecoanapa\n",
      "Processing Record 48 of Set 6 | lata\n",
      "Processing Record 49 of Set 6 | virginia beach\n",
      "Processing Record 0 of Set 7 | scarborough\n",
      "Processing Record 1 of Set 7 | atar\n",
      "Processing Record 2 of Set 7 | dajal\n",
      "Processing Record 3 of Set 7 | bam\n",
      "Processing Record 4 of Set 7 | bazarnyye mataki\n",
      "Processing Record 5 of Set 7 | powell river\n",
      "Processing Record 6 of Set 7 | belaya gora\n",
      "Processing Record 7 of Set 7 | burica\n",
      "City not found. Skipping...\n",
      "Processing Record 8 of Set 7 | marshall\n",
      "Processing Record 9 of Set 7 | becerril\n",
      "Processing Record 10 of Set 7 | krasnyy chikoy\n",
      "Processing Record 11 of Set 7 | ganzhou\n",
      "Processing Record 12 of Set 7 | tashara\n",
      "Processing Record 13 of Set 7 | podor\n",
      "Processing Record 14 of Set 7 | caravelas\n",
      "Processing Record 15 of Set 7 | sardulgarh\n",
      "Processing Record 16 of Set 7 | bayji\n",
      "Processing Record 17 of Set 7 | ponferrada\n",
      "Processing Record 18 of Set 7 | the pas\n",
      "Processing Record 19 of Set 7 | paita\n",
      "Processing Record 20 of Set 7 | umzimvubu\n",
      "City not found. Skipping...\n",
      "Processing Record 21 of Set 7 | fortuna\n",
      "Processing Record 22 of Set 7 | ahipara\n",
      "Processing Record 23 of Set 7 | ituni\n",
      "City not found. Skipping...\n",
      "Processing Record 24 of Set 7 | monrovia\n",
      "Processing Record 25 of Set 7 | bichena\n",
      "Processing Record 26 of Set 7 | victoria\n",
      "Processing Record 27 of Set 7 | vagur\n",
      "Processing Record 28 of Set 7 | hay river\n",
      "Processing Record 29 of Set 7 | taywarah\n",
      "Processing Record 30 of Set 7 | omboue\n",
      "Processing Record 31 of Set 7 | iqaluit\n",
      "Processing Record 32 of Set 7 | suntar\n",
      "Processing Record 33 of Set 7 | tabou\n",
      "Processing Record 34 of Set 7 | padang\n",
      "Processing Record 35 of Set 7 | vila\n",
      "Processing Record 36 of Set 7 | hebertville\n",
      "City not found. Skipping...\n",
      "Processing Record 37 of Set 7 | kidal\n",
      "Processing Record 38 of Set 7 | sorong\n",
      "Processing Record 39 of Set 7 | mecca\n",
      "Processing Record 40 of Set 7 | cidreira\n",
      "Processing Record 41 of Set 7 | kiruna\n",
      "Processing Record 42 of Set 7 | leningradskiy\n",
      "Processing Record 43 of Set 7 | biak\n",
      "Processing Record 44 of Set 7 | ozernovskiy\n",
      "Processing Record 45 of Set 7 | nowy dwor gdanski\n",
      "Processing Record 46 of Set 7 | cairns\n",
      "Processing Record 47 of Set 7 | vaitupu\n",
      "City not found. Skipping...\n",
      "Processing Record 48 of Set 7 | beringovskiy\n",
      "Processing Record 49 of Set 7 | namatanai\n",
      "Processing Record 0 of Set 8 | menongue\n",
      "Processing Record 1 of Set 8 | nelson bay\n",
      "Processing Record 2 of Set 8 | chernyshevskiy\n",
      "Processing Record 3 of Set 8 | gat\n",
      "Processing Record 4 of Set 8 | esperance\n",
      "Processing Record 5 of Set 8 | tateyama\n",
      "Processing Record 6 of Set 8 | mokhsogollokh\n",
      "Processing Record 7 of Set 8 | bucerias\n",
      "Processing Record 8 of Set 8 | sao filipe\n",
      "Processing Record 9 of Set 8 | fairbanks\n",
      "Processing Record 10 of Set 8 | black forest\n",
      "Processing Record 11 of Set 8 | dandong\n",
      "Processing Record 12 of Set 8 | nalut\n",
      "Processing Record 13 of Set 8 | tidore\n",
      "City not found. Skipping...\n",
      "Processing Record 14 of Set 8 | rolim de moura\n",
      "City not found. Skipping...\n",
      "Processing Record 15 of Set 8 | jutai\n",
      "Processing Record 16 of Set 8 | sundargarh\n",
      "Processing Record 17 of Set 8 | kulhudhuffushi\n",
      "Processing Record 18 of Set 8 | itarema\n",
      "Processing Record 19 of Set 8 | yining\n",
      "Processing Record 20 of Set 8 | margate\n",
      "Processing Record 21 of Set 8 | shubarkuduk\n",
      "Processing Record 22 of Set 8 | gaoua\n",
      "Processing Record 23 of Set 8 | dolgorukovo\n",
      "Processing Record 24 of Set 8 | teguldet\n",
      "Processing Record 25 of Set 8 | ayan\n",
      "Processing Record 26 of Set 8 | vila velha\n",
      "Processing Record 27 of Set 8 | nome\n",
      "Processing Record 28 of Set 8 | sakaiminato\n",
      "Processing Record 29 of Set 8 | sinaloa\n"
     ]
    },
    {
     "name": "stdout",
     "output_type": "stream",
     "text": [
      "Processing Record 30 of Set 8 | vyartsilya\n",
      "Processing Record 31 of Set 8 | kapuskasing\n",
      "Processing Record 32 of Set 8 | koumac\n",
      "Processing Record 33 of Set 8 | baza\n",
      "Processing Record 34 of Set 8 | kencong\n",
      "Processing Record 35 of Set 8 | chabahar\n",
      "Processing Record 36 of Set 8 | husavik\n",
      "Processing Record 37 of Set 8 | maine-soroa\n",
      "Processing Record 38 of Set 8 | port hardy\n",
      "Processing Record 39 of Set 8 | georgetown\n",
      "Processing Record 40 of Set 8 | tommot\n",
      "Processing Record 41 of Set 8 | benguela\n",
      "Processing Record 42 of Set 8 | peniche\n",
      "Processing Record 43 of Set 8 | kloulklubed\n",
      "Processing Record 44 of Set 8 | yanacancha\n",
      "Processing Record 45 of Set 8 | launceston\n",
      "Processing Record 46 of Set 8 | kinwat\n",
      "Processing Record 47 of Set 8 | conceicao do araguaia\n",
      "Processing Record 48 of Set 8 | abu dhabi\n",
      "Processing Record 49 of Set 8 | dukat\n",
      "Processing Record 0 of Set 9 | temir\n",
      "Processing Record 1 of Set 9 | senneterre\n",
      "Processing Record 2 of Set 9 | attawapiskat\n",
      "City not found. Skipping...\n",
      "Processing Record 3 of Set 9 | luebo\n",
      "Processing Record 4 of Set 9 | cabo san lucas\n",
      "Processing Record 5 of Set 9 | birobidzhan\n",
      "Processing Record 6 of Set 9 | phibun mangsahan\n",
      "Processing Record 7 of Set 9 | mukhanovo\n",
      "City not found. Skipping...\n",
      "Processing Record 8 of Set 9 | belyy yar\n",
      "Processing Record 9 of Set 9 | tiarei\n",
      "Processing Record 10 of Set 9 | teahupoo\n",
      "Processing Record 11 of Set 9 | honggang\n",
      "Processing Record 12 of Set 9 | bauchi\n",
      "Processing Record 13 of Set 9 | khasan\n",
      "Processing Record 14 of Set 9 | ponta delgada\n",
      "Processing Record 15 of Set 9 | nabire\n",
      "Processing Record 16 of Set 9 | ocos\n",
      "Processing Record 17 of Set 9 | salinopolis\n",
      "Processing Record 18 of Set 9 | araouane\n",
      "Processing Record 19 of Set 9 | virtsu\n",
      "Processing Record 20 of Set 9 | deep river\n",
      "Processing Record 21 of Set 9 | coral hills\n",
      "Processing Record 22 of Set 9 | poum\n",
      "Processing Record 23 of Set 9 | baturaja\n",
      "Processing Record 24 of Set 9 | aflu\n",
      "City not found. Skipping...\n",
      "Processing Record 25 of Set 9 | werdohl\n",
      "Processing Record 26 of Set 9 | nioro\n",
      "Processing Record 27 of Set 9 | samusu\n",
      "City not found. Skipping...\n",
      "Processing Record 28 of Set 9 | izumo\n",
      "Processing Record 29 of Set 9 | srisailam\n",
      "Processing Record 30 of Set 9 | akhmim\n",
      "Processing Record 31 of Set 9 | ulaangom\n",
      "Processing Record 32 of Set 9 | mlonggo\n",
      "Processing Record 33 of Set 9 | altamont\n",
      "Processing Record 34 of Set 9 | kolvereid\n",
      "Processing Record 35 of Set 9 | disna\n",
      "Processing Record 36 of Set 9 | astaneh-ye ashrafiyeh\n",
      "Processing Record 37 of Set 9 | mount gambier\n",
      "Processing Record 38 of Set 9 | kitui\n",
      "Processing Record 39 of Set 9 | west bay\n",
      "Processing Record 40 of Set 9 | auburn hills\n",
      "Processing Record 41 of Set 9 | aklavik\n",
      "Processing Record 42 of Set 9 | lulea\n",
      "Processing Record 43 of Set 9 | talnakh\n",
      "Processing Record 44 of Set 9 | progreso\n",
      "Processing Record 45 of Set 9 | omsukchan\n",
      "Processing Record 46 of Set 9 | russkaya polyana\n",
      "Processing Record 47 of Set 9 | buchanan\n",
      "Processing Record 48 of Set 9 | doctor pedro p. pena\n",
      "City not found. Skipping...\n",
      "Processing Record 49 of Set 9 | clyde river\n",
      "Processing Record 0 of Set 10 | rantoul\n",
      "Processing Record 1 of Set 10 | nizhniy tsasuchey\n",
      "Processing Record 2 of Set 10 | burns lake\n",
      "Processing Record 3 of Set 10 | vitry-le-francois\n",
      "Processing Record 4 of Set 10 | peremyshlyany\n",
      "Processing Record 5 of Set 10 | mogadishu\n",
      "Processing Record 6 of Set 10 | vicente guerrero\n",
      "Processing Record 7 of Set 10 | saint-leu\n",
      "Processing Record 8 of Set 10 | faya\n",
      "Processing Record 9 of Set 10 | nacala\n",
      "Processing Record 10 of Set 10 | kruisfontein\n",
      "Processing Record 11 of Set 10 | bumba\n",
      "Processing Record 12 of Set 10 | gurskoye\n",
      "City not found. Skipping...\n",
      "Processing Record 13 of Set 10 | portland\n",
      "Processing Record 14 of Set 10 | mnogovershinnyy\n",
      "Processing Record 15 of Set 10 | yarmouth\n",
      "Processing Record 16 of Set 10 | roebourne\n",
      "Processing Record 17 of Set 10 | thompson\n",
      "Processing Record 18 of Set 10 | ha tinh\n",
      "Processing Record 19 of Set 10 | coracora\n",
      "Processing Record 20 of Set 10 | hornepayne\n",
      "Processing Record 21 of Set 10 | raudeberg\n",
      "Processing Record 22 of Set 10 | ambon\n",
      "Processing Record 23 of Set 10 | teul\n",
      "City not found. Skipping...\n",
      "Processing Record 24 of Set 10 | arcachon\n",
      "Processing Record 25 of Set 10 | lasa\n",
      "Processing Record 26 of Set 10 | bababe\n",
      "City not found. Skipping...\n",
      "Processing Record 27 of Set 10 | nizhneyansk\n",
      "City not found. Skipping...\n",
      "Processing Record 28 of Set 10 | eyl\n",
      "Processing Record 29 of Set 10 | shchebetovka\n",
      "Processing Record 30 of Set 10 | logrono\n",
      "Processing Record 31 of Set 10 | thiruvananthapuram\n",
      "Processing Record 32 of Set 10 | agadez\n",
      "Processing Record 33 of Set 10 | kjopsvik\n",
      "Processing Record 34 of Set 10 | nouadhibou\n",
      "Processing Record 35 of Set 10 | hasaki\n",
      "Processing Record 36 of Set 10 | inhambane\n",
      "Processing Record 37 of Set 10 | emerald\n",
      "Processing Record 38 of Set 10 | grand centre\n",
      "City not found. Skipping...\n",
      "Processing Record 39 of Set 10 | maragogi\n",
      "Processing Record 40 of Set 10 | lompoc\n",
      "Processing Record 41 of Set 10 | yarensk\n",
      "Processing Record 42 of Set 10 | rybnaya sloboda\n",
      "Processing Record 43 of Set 10 | herat\n",
      "Processing Record 44 of Set 10 | turka\n",
      "Processing Record 45 of Set 10 | severnoye\n",
      "Processing Record 46 of Set 10 | henties bay\n",
      "Processing Record 47 of Set 10 | santa maria\n",
      "Processing Record 48 of Set 10 | narsaq\n",
      "Processing Record 49 of Set 10 | balaipungut\n",
      "Processing Record 0 of Set 11 | broken hill\n",
      "Processing Record 1 of Set 11 | oranjemund\n",
      "Processing Record 2 of Set 11 | saint-augustin\n",
      "Processing Record 3 of Set 11 | salalah\n",
      "Processing Record 4 of Set 11 | naica\n",
      "Processing Record 5 of Set 11 | norman wells\n",
      "Processing Record 6 of Set 11 | tilichiki\n",
      "Processing Record 7 of Set 11 | harper\n",
      "Processing Record 8 of Set 11 | camana\n",
      "Processing Record 9 of Set 11 | ixtapa\n",
      "Processing Record 10 of Set 11 | sola\n",
      "Processing Record 11 of Set 11 | waddan\n",
      "Processing Record 12 of Set 11 | susanville\n",
      "Processing Record 13 of Set 11 | lebanon\n",
      "Processing Record 14 of Set 11 | coahuayana\n",
      "Processing Record 15 of Set 11 | hofn\n",
      "Processing Record 16 of Set 11 | machilipatnam\n",
      "Processing Record 17 of Set 11 | cerritos\n",
      "Processing Record 18 of Set 11 | solovetskiy\n",
      "City not found. Skipping...\n",
      "Processing Record 19 of Set 11 | north bend\n",
      "Processing Record 20 of Set 11 | beloha\n",
      "Processing Record 21 of Set 11 | alpena\n",
      "Processing Record 22 of Set 11 | damghan\n",
      "Processing Record 23 of Set 11 | muana\n",
      "Processing Record 24 of Set 11 | murgab\n",
      "Processing Record 25 of Set 11 | qom\n",
      "Processing Record 26 of Set 11 | ndele\n",
      "Processing Record 27 of Set 11 | san carlos de bariloche\n",
      "Processing Record 28 of Set 11 | sosenskiy\n",
      "Processing Record 29 of Set 11 | samarai\n",
      "Processing Record 30 of Set 11 | dicabisagan\n",
      "Processing Record 31 of Set 11 | humberto de campos\n",
      "Processing Record 32 of Set 11 | sharjah\n",
      "Processing Record 33 of Set 11 | whitehorse\n",
      "Processing Record 34 of Set 11 | ateli\n",
      "Processing Record 35 of Set 11 | batticaloa\n",
      "Processing Record 36 of Set 11 | remanso\n",
      "Processing Record 37 of Set 11 | yumen\n",
      "Processing Record 38 of Set 11 | rotunda\n",
      "Processing Record 39 of Set 11 | tura\n",
      "Processing Record 40 of Set 11 | marzuq\n",
      "Processing Record 41 of Set 11 | mpika\n",
      "Processing Record 42 of Set 11 | muravlenko\n",
      "Processing Record 43 of Set 11 | qingdao\n",
      "Processing Record 44 of Set 11 | jiazi\n",
      "Processing Record 45 of Set 11 | vastervik\n",
      "City not found. Skipping...\n",
      "Processing Record 46 of Set 11 | plettenberg bay\n",
      "Processing Record 47 of Set 11 | college\n",
      "Processing Record 48 of Set 11 | bereznik\n",
      "Processing Record 49 of Set 11 | alyangula\n",
      "Processing Record 0 of Set 12 | dalbandin\n",
      "Processing Record 1 of Set 12 | zhangye\n",
      "Processing Record 2 of Set 12 | petropavlovsk-kamchatskiy\n",
      "Processing Record 3 of Set 12 | warri\n",
      "Processing Record 4 of Set 12 | kununurra\n",
      "Processing Record 5 of Set 12 | katsiveli\n",
      "City not found. Skipping...\n",
      "Processing Record 6 of Set 12 | ginda\n",
      "Processing Record 7 of Set 12 | pomabamba\n",
      "Processing Record 8 of Set 12 | huilong\n",
      "Processing Record 9 of Set 12 | xucheng\n",
      "Processing Record 10 of Set 12 | artyk\n",
      "City not found. Skipping...\n",
      "Processing Record 11 of Set 12 | richards bay\n",
      "Processing Record 12 of Set 12 | comodoro rivadavia\n",
      "Processing Record 13 of Set 12 | dunedin\n",
      "Processing Record 14 of Set 12 | cockburn harbour\n",
      "City not found. Skipping...\n",
      "Processing Record 15 of Set 12 | haibowan\n",
      "City not found. Skipping...\n",
      "Processing Record 16 of Set 12 | bomet\n"
     ]
    },
    {
     "name": "stdout",
     "output_type": "stream",
     "text": [
      "Processing Record 17 of Set 12 | morant bay\n",
      "Processing Record 18 of Set 12 | coquimbo\n",
      "Processing Record 19 of Set 12 | xuanhua\n",
      "Processing Record 20 of Set 12 | sokoni\n",
      "Processing Record 21 of Set 12 | rio grande\n",
      "Processing Record 22 of Set 12 | nanortalik\n",
      "Processing Record 23 of Set 12 | buin\n",
      "Processing Record 24 of Set 12 | port shepstone\n",
      "Processing Record 25 of Set 12 | oshawa\n",
      "Processing Record 26 of Set 12 | palabuhanratu\n",
      "City not found. Skipping...\n",
      "Processing Record 27 of Set 12 | the valley\n",
      "Processing Record 28 of Set 12 | labuhan\n",
      "Processing Record 29 of Set 12 | coruripe\n",
      "Processing Record 30 of Set 12 | bone\n",
      "Processing Record 31 of Set 12 | cumberland\n",
      "Processing Record 32 of Set 12 | wuwei\n",
      "Processing Record 33 of Set 12 | santa marinella\n",
      "Processing Record 34 of Set 12 | doaba\n",
      "Processing Record 35 of Set 12 | angra\n",
      "City not found. Skipping...\n",
      "Processing Record 36 of Set 12 | biu\n",
      "Processing Record 37 of Set 12 | vanimo\n",
      "Processing Record 38 of Set 12 | ketchikan\n",
      "Processing Record 39 of Set 12 | yanchukan\n",
      "City not found. Skipping...\n",
      "Processing Record 40 of Set 12 | bintulu\n",
      "Processing Record 41 of Set 12 | sarahan\n",
      "Processing Record 42 of Set 12 | grindavik\n",
      "Processing Record 43 of Set 12 | bathsheba\n",
      "Processing Record 44 of Set 12 | san pedro\n",
      "Processing Record 45 of Set 12 | camapua\n",
      "Processing Record 46 of Set 12 | los llanos de aridane\n",
      "Processing Record 47 of Set 12 | sansai\n",
      "City not found. Skipping...\n",
      "Processing Record 48 of Set 12 | rawson\n",
      "Processing Record 49 of Set 12 | edinet\n",
      "Processing Record 0 of Set 13 | buraydah\n",
      "Processing Record 1 of Set 13 | ouesso\n",
      "Processing Record 2 of Set 13 | longyearbyen\n",
      "Processing Record 3 of Set 13 | zhigalovo\n",
      "Processing Record 4 of Set 13 | aykhal\n",
      "Processing Record 5 of Set 13 | tadpatri\n",
      "Processing Record 6 of Set 13 | hambantota\n",
      "Processing Record 7 of Set 13 | saint anthony\n",
      "Processing Record 8 of Set 13 | mossendjo\n",
      "Processing Record 9 of Set 13 | kysyl-syr\n"
     ]
    }
   ],
   "source": [
    "for i, city in enumerate(cities):\n",
    "    if (i%50 == 0 and i>=50):\n",
    "        set_count+=1\n",
    "        record_count = 0\n",
    "        \n",
    "    query_url = f\"{url}&units={units}&q={city}\"\n",
    "    \n",
    "    print(f\"Processing Record {record_count} of Set {set_count} | {city}\")\n",
    "    record_count += 1\n",
    "\n",
    "    try:\n",
    "        response = requests.get(query_url).json()\n",
    "        \n",
    "        city_name.append(response[\"name\"])\n",
    "        lat.append(response[\"coord\"][\"lat\"])\n",
    "        lon.append(response[\"coord\"][\"lon\"])\n",
    "        max_temp.append(response[\"main\"][\"temp_max\"])\n",
    "        humidity.append(response[\"main\"][\"humidity\"])\n",
    "        cloudiness.append(response[\"clouds\"][\"all\"])\n",
    "        wind_speed.append(response[\"wind\"][\"speed\"])\n",
    "        country.append(response[\"sys\"][\"country\"])\n",
    "        city_id.append(response[\"id\"])\n",
    "        date.append(response[\"dt\"])\n",
    "        time.sleep(0.1)\n",
    "    except KeyError:\n",
    "        print(\"City not found. Skipping...\")\n",
    "        pass\n",
    "    "
   ]
  },
  {
   "cell_type": "code",
   "execution_count": 7,
   "metadata": {},
   "outputs": [
    {
     "data": {
      "text/html": [
       "<div>\n",
       "<style scoped>\n",
       "    .dataframe tbody tr th:only-of-type {\n",
       "        vertical-align: middle;\n",
       "    }\n",
       "\n",
       "    .dataframe tbody tr th {\n",
       "        vertical-align: top;\n",
       "    }\n",
       "\n",
       "    .dataframe thead th {\n",
       "        text-align: right;\n",
       "    }\n",
       "</style>\n",
       "<table border=\"1\" class=\"dataframe\">\n",
       "  <thead>\n",
       "    <tr style=\"text-align: right;\">\n",
       "      <th></th>\n",
       "      <th>City</th>\n",
       "      <th>Cloudiness</th>\n",
       "      <th>Date</th>\n",
       "      <th>Humidity</th>\n",
       "      <th>Lat</th>\n",
       "      <th>Lon</th>\n",
       "      <th>Max Temp</th>\n",
       "      <th>Windspeed</th>\n",
       "    </tr>\n",
       "  </thead>\n",
       "  <tbody>\n",
       "    <tr>\n",
       "      <th>0</th>\n",
       "      <td>Sobolevo</td>\n",
       "      <td>80</td>\n",
       "      <td>1627342911</td>\n",
       "      <td>77</td>\n",
       "      <td>54.4299</td>\n",
       "      <td>31.8996</td>\n",
       "      <td>62.94</td>\n",
       "      <td>5.48</td>\n",
       "    </tr>\n",
       "    <tr>\n",
       "      <th>1</th>\n",
       "      <td>Punta Arenas</td>\n",
       "      <td>0</td>\n",
       "      <td>1627342827</td>\n",
       "      <td>75</td>\n",
       "      <td>-53.1500</td>\n",
       "      <td>-70.9167</td>\n",
       "      <td>42.91</td>\n",
       "      <td>8.05</td>\n",
       "    </tr>\n",
       "    <tr>\n",
       "      <th>2</th>\n",
       "      <td>Albany</td>\n",
       "      <td>0</td>\n",
       "      <td>1627342680</td>\n",
       "      <td>74</td>\n",
       "      <td>42.6001</td>\n",
       "      <td>-73.9662</td>\n",
       "      <td>81.25</td>\n",
       "      <td>7.65</td>\n",
       "    </tr>\n",
       "    <tr>\n",
       "      <th>3</th>\n",
       "      <td>Baykit</td>\n",
       "      <td>27</td>\n",
       "      <td>1627342912</td>\n",
       "      <td>54</td>\n",
       "      <td>61.6700</td>\n",
       "      <td>96.3700</td>\n",
       "      <td>75.13</td>\n",
       "      <td>3.65</td>\n",
       "    </tr>\n",
       "    <tr>\n",
       "      <th>4</th>\n",
       "      <td>Saskylakh</td>\n",
       "      <td>70</td>\n",
       "      <td>1627342875</td>\n",
       "      <td>68</td>\n",
       "      <td>71.9167</td>\n",
       "      <td>114.0833</td>\n",
       "      <td>54.63</td>\n",
       "      <td>7.09</td>\n",
       "    </tr>\n",
       "  </tbody>\n",
       "</table>\n",
       "</div>"
      ],
      "text/plain": [
       "           City  Cloudiness        Date  Humidity      Lat       Lon  \\\n",
       "0      Sobolevo          80  1627342911        77  54.4299   31.8996   \n",
       "1  Punta Arenas           0  1627342827        75 -53.1500  -70.9167   \n",
       "2        Albany           0  1627342680        74  42.6001  -73.9662   \n",
       "3        Baykit          27  1627342912        54  61.6700   96.3700   \n",
       "4     Saskylakh          70  1627342875        68  71.9167  114.0833   \n",
       "\n",
       "   Max Temp  Windspeed  \n",
       "0     62.94       5.48  \n",
       "1     42.91       8.05  \n",
       "2     81.25       7.65  \n",
       "3     75.13       3.65  \n",
       "4     54.63       7.09  "
      ]
     },
     "execution_count": 7,
     "metadata": {},
     "output_type": "execute_result"
    }
   ],
   "source": [
    "city_df = pd.DataFrame({'City': city_name, 'Cloudiness': cloudiness, 'Date': date,\n",
    "                            'Humidity': humidity, 'Lat': lat, 'Lon': lon, 'Max Temp': max_temp, 'Windspeed': wind_speed})\n",
    "\n",
    "city_df.head()\n"
   ]
  },
  {
   "cell_type": "markdown",
   "metadata": {},
   "source": [
    "### Convert Raw Data to DataFrame\n",
    "* Export the city data into a .csv.\n",
    "* Display the DataFrame"
   ]
  },
  {
   "cell_type": "code",
   "execution_count": 8,
   "metadata": {},
   "outputs": [
    {
     "data": {
      "text/html": [
       "<div>\n",
       "<style scoped>\n",
       "    .dataframe tbody tr th:only-of-type {\n",
       "        vertical-align: middle;\n",
       "    }\n",
       "\n",
       "    .dataframe tbody tr th {\n",
       "        vertical-align: top;\n",
       "    }\n",
       "\n",
       "    .dataframe thead th {\n",
       "        text-align: right;\n",
       "    }\n",
       "</style>\n",
       "<table border=\"1\" class=\"dataframe\">\n",
       "  <thead>\n",
       "    <tr style=\"text-align: right;\">\n",
       "      <th></th>\n",
       "      <th>City</th>\n",
       "      <th>Cloudiness</th>\n",
       "      <th>Date</th>\n",
       "      <th>Humidity</th>\n",
       "      <th>Lat</th>\n",
       "      <th>Lon</th>\n",
       "      <th>Max Temp</th>\n",
       "      <th>Windspeed</th>\n",
       "    </tr>\n",
       "  </thead>\n",
       "  <tbody>\n",
       "    <tr>\n",
       "      <th>0</th>\n",
       "      <td>Sobolevo</td>\n",
       "      <td>80</td>\n",
       "      <td>1627342911</td>\n",
       "      <td>77</td>\n",
       "      <td>54.4299</td>\n",
       "      <td>31.8996</td>\n",
       "      <td>62.94</td>\n",
       "      <td>5.48</td>\n",
       "    </tr>\n",
       "    <tr>\n",
       "      <th>1</th>\n",
       "      <td>Punta Arenas</td>\n",
       "      <td>0</td>\n",
       "      <td>1627342827</td>\n",
       "      <td>75</td>\n",
       "      <td>-53.1500</td>\n",
       "      <td>-70.9167</td>\n",
       "      <td>42.91</td>\n",
       "      <td>8.05</td>\n",
       "    </tr>\n",
       "    <tr>\n",
       "      <th>2</th>\n",
       "      <td>Albany</td>\n",
       "      <td>0</td>\n",
       "      <td>1627342680</td>\n",
       "      <td>74</td>\n",
       "      <td>42.6001</td>\n",
       "      <td>-73.9662</td>\n",
       "      <td>81.25</td>\n",
       "      <td>7.65</td>\n",
       "    </tr>\n",
       "    <tr>\n",
       "      <th>3</th>\n",
       "      <td>Baykit</td>\n",
       "      <td>27</td>\n",
       "      <td>1627342912</td>\n",
       "      <td>54</td>\n",
       "      <td>61.6700</td>\n",
       "      <td>96.3700</td>\n",
       "      <td>75.13</td>\n",
       "      <td>3.65</td>\n",
       "    </tr>\n",
       "    <tr>\n",
       "      <th>4</th>\n",
       "      <td>Saskylakh</td>\n",
       "      <td>70</td>\n",
       "      <td>1627342875</td>\n",
       "      <td>68</td>\n",
       "      <td>71.9167</td>\n",
       "      <td>114.0833</td>\n",
       "      <td>54.63</td>\n",
       "      <td>7.09</td>\n",
       "    </tr>\n",
       "  </tbody>\n",
       "</table>\n",
       "</div>"
      ],
      "text/plain": [
       "           City  Cloudiness        Date  Humidity      Lat       Lon  \\\n",
       "0      Sobolevo          80  1627342911        77  54.4299   31.8996   \n",
       "1  Punta Arenas           0  1627342827        75 -53.1500  -70.9167   \n",
       "2        Albany           0  1627342680        74  42.6001  -73.9662   \n",
       "3        Baykit          27  1627342912        54  61.6700   96.3700   \n",
       "4     Saskylakh          70  1627342875        68  71.9167  114.0833   \n",
       "\n",
       "   Max Temp  Windspeed  \n",
       "0     62.94       5.48  \n",
       "1     42.91       8.05  \n",
       "2     81.25       7.65  \n",
       "3     75.13       3.65  \n",
       "4     54.63       7.09  "
      ]
     },
     "execution_count": 8,
     "metadata": {},
     "output_type": "execute_result"
    }
   ],
   "source": [
    "#Export the city data into a .csv.\n",
    "\n",
    "city_df.to_csv(\"../output_data/cities.csv\", index=False)\n",
    "city_df.head()\n",
    "\n"
   ]
  },
  {
   "cell_type": "markdown",
   "metadata": {},
   "source": [
    "## Inspect the data and remove the cities where the humidity > 100%.\n",
    "----\n",
    "Skip this step if there are no cities that have humidity > 100%. "
   ]
  },
  {
   "cell_type": "code",
   "execution_count": null,
   "metadata": {},
   "outputs": [],
   "source": []
  },
  {
   "cell_type": "code",
   "execution_count": 31,
   "metadata": {},
   "outputs": [
    {
     "data": {
      "text/plain": [
       "count    558.000000\n",
       "mean      70.987455\n",
       "std       19.499708\n",
       "min       13.000000\n",
       "25%       60.000000\n",
       "50%       75.000000\n",
       "75%       85.000000\n",
       "max      100.000000\n",
       "Name: Humidity, dtype: float64"
      ]
     },
     "execution_count": 31,
     "metadata": {},
     "output_type": "execute_result"
    }
   ],
   "source": [
    "#  Get the indices of cities that have humidity over 100%.\n",
    "\n",
    "humidity_df = city_df[\"Humidity\"].describe(include = \"all\")\n",
    "humidity_df"
   ]
  },
  {
   "cell_type": "code",
   "execution_count": null,
   "metadata": {},
   "outputs": [],
   "source": [
    "# Make a new DataFrame equal to the city data to drop all humidity outliers by index.\n",
    "# Passing \"inplace=False\" will make a copy of the city_data DataFrame, which we call \"clean_city_data\".\n"
   ]
  },
  {
   "cell_type": "code",
   "execution_count": null,
   "metadata": {},
   "outputs": [],
   "source": [
    "\n"
   ]
  },
  {
   "cell_type": "markdown",
   "metadata": {},
   "source": [
    "## Plotting the Data\n",
    "* Use proper labeling of the plots using plot titles (including date of analysis) and axes labels.\n",
    "* Save the plotted figures as .pngs."
   ]
  },
  {
   "cell_type": "markdown",
   "metadata": {},
   "source": [
    "## Latitude vs. Temperature Plot"
   ]
  },
  {
   "cell_type": "code",
   "execution_count": 36,
   "metadata": {
    "scrolled": true
   },
   "outputs": [
    {
     "data": {
      "image/png": "[encoded data removed]",
      "text/plain": [
       "<Figure size 432x288 with 1 Axes>"
      ]
     },
     "metadata": {
      "needs_background": "light"
     },
     "output_type": "display_data"
    }
   ],
   "source": [
    "x_values = city_df['Lat']\n",
    "y_values = city_df['Max Temp']\n",
    "plt.scatter(x_values,y_values)\n",
    "plt.title(\"Latitude vs Temperature (07/26/2018)\")\n",
    "plt.xlabel('Latitude')\n",
    "plt.ylabel('Temperature')\n",
    "plt.grid()\n",
    "plt.show()"
   ]
  },
  {
   "cell_type": "markdown",
   "metadata": {},
   "source": [
    "## Latitude vs. Humidity Plot"
   ]
  },
  {
   "cell_type": "code",
   "execution_count": 38,
   "metadata": {},
   "outputs": [
    {
     "data": {
      "image/png": "[encoded data removed]",
      "text/plain": [
       "<Figure size 432x288 with 1 Axes>"
      ]
     },
     "metadata": {
      "needs_background": "light"
     },
     "output_type": "display_data"
    }
   ],
   "source": [
    "#Build a scatter plot for Latitude vs Humidity\n",
    "plt.scatter(city_df[\"Lat\"],city_df[\"Humidity\"], marker=\"o\")\n",
    "\n",
    "# Incorporate the other graph properties\n",
    "plt.title(\"Latitude vs Humidity (07/26/2018)\")\n",
    "plt.ylabel(\"Humidity %\")\n",
    "plt.xlabel(\"Latitude\")\n",
    "plt.grid(True)\n",
    "\n",
    "# Save the figure\n",
    "plt.savefig(\"../output_data/LatitideandHumidity.png\")\n",
    "\n",
    "# Show plot\n",
    "plt.show()"
   ]
  },
  {
   "cell_type": "markdown",
   "metadata": {},
   "source": [
    "## Latitude vs. Cloudiness Plot"
   ]
  },
  {
   "cell_type": "code",
   "execution_count": 41,
   "metadata": {},
   "outputs": [
    {
     "data": {
      "image/png": "[encoded data removed]",
      "text/plain": [
       "<Figure size 432x288 with 1 Axes>"
      ]
     },
     "metadata": {
      "needs_background": "light"
     },
     "output_type": "display_data"
    }
   ],
   "source": [
    "#Build a scatter plot for Latitude vs cloudiness plot\n",
    "plt.scatter(city_df[\"Lat\"], city_df[\"Cloudiness\"], marker=\"o\")\n",
    "\n",
    "# Incorporate the other graph properties\n",
    "plt.title(\"Latitude vs cloudiness(07/26/2018) \")\n",
    "plt.ylabel(\"Clouds %\")\n",
    "plt.xlabel(\"Latitude\")\n",
    "plt.grid(True)\n",
    "\n",
    "# Save the figure\n",
    "plt.savefig(\"../output_data/LatitideandHumidity.png\")\n",
    "\n",
    "# Show plot\n",
    "plt.show()"
   ]
  },
  {
   "cell_type": "markdown",
   "metadata": {},
   "source": [
    "## Latitude vs. Wind Speed Plot"
   ]
  },
  {
   "cell_type": "code",
   "execution_count": 40,
   "metadata": {},
   "outputs": [
    {
     "data": {
      "image/png": "[encoded data removed]",
      "text/plain": [
       "<Figure size 432x288 with 1 Axes>"
      ]
     },
     "metadata": {
      "needs_background": "light"
     },
     "output_type": "display_data"
    }
   ],
   "source": [
    "#Build a scatter plot for Latitude vs Wind speed plot\n",
    "plt.scatter(city_df[\"Lat\"], city_df[\"Windspeed\"], marker=\"o\")\n",
    "\n",
    "# Incorporate the other graph properties\n",
    "plt.title(\"Latitude vs Wind speed (07/26/2018)\")\n",
    "plt.ylabel(\"Wind(speed)\")\n",
    "plt.xlabel(\"Latitude\")\n",
    "plt.grid(True)\n",
    "\n",
    "# Save the figure\n",
    "plt.savefig(\"../output_data/LatitideandWind.png\")\n",
    "\n",
    "# Show plot\n",
    "plt.show()"
   ]
  },
  {
   "cell_type": "markdown",
   "metadata": {},
   "source": [
    "## Linear Regression"
   ]
  },
  {
   "cell_type": "code",
   "execution_count": 21,
   "metadata": {},
   "outputs": [
    {
     "name": "stdout",
     "output_type": "stream",
     "text": [
      "0      69.316835\n",
      "1      69.723496\n",
      "2      69.361553\n",
      "3      69.289467\n",
      "4      69.250733\n",
      "         ...    \n",
      "553    69.466198\n",
      "554    69.499435\n",
      "555    69.352403\n",
      "556    69.533738\n",
      "557    69.281043\n",
      "Name: Lat, Length: 558, dtype: float64\n"
     ]
    }
   ],
   "source": [
    "# Perform a linear regression on temperature vs. latitude\n",
    "(slope, intercept, rvalue, pvalue, stderr) = stats.linregress(x_values, y_values)\n",
    "# Get regression values\n",
    "regress_values = x_values * slope + intercept\n",
    "print(regress_values)"
   ]
  },
  {
   "cell_type": "code",
   "execution_count": 22,
   "metadata": {
    "scrolled": true
   },
   "outputs": [
    {
     "name": "stdout",
     "output_type": "stream",
     "text": [
      "y = -0.0x +69.52\n"
     ]
    }
   ],
   "source": [
    "# Create line equation string\n",
    "line_eq = \"y = \" + str(round(slope,2)) + \"x +\" + str(round(intercept,2))\n",
    "print(line_eq)"
   ]
  },
  {
   "cell_type": "markdown",
   "metadata": {},
   "source": [
    "####  Northern Hemisphere - Max Temp vs. Latitude Linear Regression"
   ]
  },
  {
   "cell_type": "code",
   "execution_count": 47,
   "metadata": {},
   "outputs": [],
   "source": [
    "# Create Northern and Southern Hemisphere DataFrames\n",
    "northern_df = city_df.loc[pd.to_numeric(city_df[\"Lat\"]).astype(float) > 0, :]\n",
    "southern_df = city_df.loc[pd.to_numeric(city_df[\"Lat\"]).astype(float) < 0, :]\n"
   ]
  },
  {
   "cell_type": "code",
   "execution_count": 52,
   "metadata": {},
   "outputs": [
    {
     "name": "stdout",
     "output_type": "stream",
     "text": [
      "Regression line equation is: y = -0.46x + 90.13\n",
      "The regression displays a negative correlation.\n",
      "In the nothern hemisphere, as you move away from the equator the temperature decreases.\n",
      "The r-squared is: 0.4464807481901879\n"
     ]
    },
    {
     "data": {
      "image/png": "[encoded data removed]",
      "text/plain": [
       "<Figure size 432x288 with 1 Axes>"
      ]
     },
     "metadata": {
      "needs_background": "light"
     },
     "output_type": "display_data"
    }
   ],
   "source": [
    "x_values = pd.to_numeric(northern_df['Lat']).astype(float)\n",
    "y_values = pd.to_numeric(northern_df['Max Temp']).astype(float)\n",
    "(slope, intercept, rvalue, pvalue, stderr) = linregress(x_values, y_values)\n",
    "regress_values = x_values * slope + intercept\n",
    "line_eq = \"y = \" + str(round(slope,2)) + \"x + \" + str(round(intercept,2))\n",
    "print(f\"Regression line equation is: {line_eq}\")\n",
    "plt.scatter(x_values,y_values)\n",
    "plt.plot(x_values,regress_values,\"r-\")\n",
    "plt.annotate(line_eq,(0,50),fontsize=15,color=\"red\")\n",
    "plt.xlabel('Latitude')\n",
    "plt.ylabel('Max Temperature')\n",
    "print(\"The regression displays a negative correlation.\")\n",
    "print(\"In the nothern hemisphere, as you move away from the equator the temperature decreases.\")\n",
    "print(f\"The r-squared is: {rvalue**2}\")\n",
    "plt.show()"
   ]
  },
  {
   "cell_type": "markdown",
   "metadata": {},
   "source": [
    "####  Southern Hemisphere - Max Temp vs. Latitude Linear Regression"
   ]
  },
  {
   "cell_type": "code",
   "execution_count": 53,
   "metadata": {},
   "outputs": [
    {
     "name": "stdout",
     "output_type": "stream",
     "text": [
      "Regression line equation is: y = 0.63x + 78.08\n",
      "The regression displays a negative correlation.\n",
      "In the nothern hemisphere, as you move away from the equator the temperature decreases.\n",
      "The r-squared is: 0.5205351061361121\n"
     ]
    },
    {
     "data": {
      "image/png": "[encoded data removed]",
      "text/plain": [
       "<Figure size 432x288 with 1 Axes>"
      ]
     },
     "metadata": {
      "needs_background": "light"
     },
     "output_type": "display_data"
    }
   ],
   "source": [
    "x_values = pd.to_numeric(southern_df['Lat']).astype(float)\n",
    "y_values = pd.to_numeric(southern_df['Max Temp']).astype(float)\n",
    "(slope, intercept, rvalue, pvalue, stderr) = linregress(x_values, y_values)\n",
    "regress_values = x_values * slope + intercept\n",
    "line_eq = \"y = \" + str(round(slope,2)) + \"x + \" + str(round(intercept,2))\n",
    "print(f\"Regression line equation is: {line_eq}\")\n",
    "plt.scatter(x_values,y_values)\n",
    "plt.plot(x_values,regress_values,\"r-\")\n",
    "plt.annotate(line_eq,(0,50),fontsize=15,color=\"red\")\n",
    "plt.xlabel('Latitude')\n",
    "plt.ylabel('Max Temperature')\n",
    "print(\"The regression displays a negative correlation.\")\n",
    "print(\"In the nothern hemisphere, as you move away from the equator the temperature decreases.\")\n",
    "print(f\"The r-squared is: {rvalue**2}\")\n",
    "plt.show()"
   ]
  },
  {
   "cell_type": "markdown",
   "metadata": {},
   "source": [
    "####  Northern Hemisphere - Humidity (%) vs. Latitude Linear Regression"
   ]
  },
  {
   "cell_type": "code",
   "execution_count": 54,
   "metadata": {},
   "outputs": [
    {
     "name": "stdout",
     "output_type": "stream",
     "text": [
      "Regression line equation is: y = 0.01x + 71.28\n",
      "The regression displays a negative correlation.\n",
      "In the nothern hemisphere, as you move away from the equator the temperature decreases.\n",
      "The r-squared is: 4.616933935016991e-05\n"
     ]
    },
    {
     "data": {
      "image/png": "[encoded data removed]",
      "text/plain": [
       "<Figure size 432x288 with 1 Axes>"
      ]
     },
     "metadata": {
      "needs_background": "light"
     },
     "output_type": "display_data"
    }
   ],
   "source": [
    "x_values = pd.to_numeric(northern_df['Lat']).astype(float)\n",
    "y_values = pd.to_numeric(northern_df['Humidity']).astype(float)\n",
    "(slope, intercept, rvalue, pvalue, stderr) = linregress(x_values, y_values)\n",
    "regress_values = x_values * slope + intercept\n",
    "line_eq = \"y = \" + str(round(slope,2)) + \"x + \" + str(round(intercept,2))\n",
    "print(f\"Regression line equation is: {line_eq}\")\n",
    "plt.scatter(x_values,y_values)\n",
    "plt.plot(x_values,regress_values,\"r-\")\n",
    "plt.annotate(line_eq,(0,50),fontsize=15,color=\"red\")\n",
    "plt.xlabel('Latitude')\n",
    "plt.ylabel('Max Temperature')\n",
    "print(\"The regression displays a negative correlation.\")\n",
    "print(\"In the nothern hemisphere, as you move away from the equator the temperature decreases.\")\n",
    "print(f\"The r-squared is: {rvalue**2}\")\n",
    "plt.show()"
   ]
  },
  {
   "cell_type": "markdown",
   "metadata": {},
   "source": [
    "####  Southern Hemisphere - Humidity (%) vs. Latitude Linear Regression"
   ]
  },
  {
   "cell_type": "code",
   "execution_count": 55,
   "metadata": {},
   "outputs": [
    {
     "name": "stdout",
     "output_type": "stream",
     "text": [
      "Regression line equation is: y = 0.24x + 74.79\n",
      "The regression displays a negative correlation.\n",
      "In the nothern hemisphere, as you move away from the equator the temperature decreases.\n",
      "The r-squared is: 0.03426049192265916\n"
     ]
    },
    {
     "data": {
      "image/png": "[encoded data removed]",
      "text/plain": [
       "<Figure size 432x288 with 1 Axes>"
      ]
     },
     "metadata": {
      "needs_background": "light"
     },
     "output_type": "display_data"
    }
   ],
   "source": [
    "x_values = pd.to_numeric(southern_df['Lat']).astype(float)\n",
    "y_values = pd.to_numeric(southern_df['Humidity']).astype(float)\n",
    "(slope, intercept, rvalue, pvalue, stderr) = linregress(x_values, y_values)\n",
    "regress_values = x_values * slope + intercept\n",
    "line_eq = \"y = \" + str(round(slope,2)) + \"x + \" + str(round(intercept,2))\n",
    "print(f\"Regression line equation is: {line_eq}\")\n",
    "plt.scatter(x_values,y_values)\n",
    "plt.plot(x_values,regress_values,\"r-\")\n",
    "plt.annotate(line_eq,(0,50),fontsize=15,color=\"red\")\n",
    "plt.xlabel('Latitude')\n",
    "plt.ylabel('Max Temperature')\n",
    "print(\"The regression displays a negative correlation.\")\n",
    "print(\"In the nothern hemisphere, as you move away from the equator the temperature decreases.\")\n",
    "print(f\"The r-squared is: {rvalue**2}\")\n",
    "plt.show()"
   ]
  },
  {
   "cell_type": "markdown",
   "metadata": {},
   "source": [
    "####  Northern Hemisphere - Cloudiness (%) vs. Latitude Linear Regression"
   ]
  },
  {
   "cell_type": "code",
   "execution_count": 56,
   "metadata": {},
   "outputs": [
    {
     "name": "stdout",
     "output_type": "stream",
     "text": [
      "Regression line equation is: y = -0.14x + 61.44\n",
      "The regression displays a negative correlation.\n",
      "In the nothern hemisphere, as you move away from the equator the temperature decreases.\n",
      "The r-squared is: 0.00581049508554916\n"
     ]
    },
    {
     "data": {
      "image/png": "[encoded data removed]",
      "text/plain": [
       "<Figure size 432x288 with 1 Axes>"
      ]
     },
     "metadata": {
      "needs_background": "light"
     },
     "output_type": "display_data"
    }
   ],
   "source": [
    "x_values = pd.to_numeric(northern_df['Lat']).astype(float)\n",
    "y_values = pd.to_numeric(northern_df['Cloudiness']).astype(float)\n",
    "(slope, intercept, rvalue, pvalue, stderr) = linregress(x_values, y_values)\n",
    "regress_values = x_values * slope + intercept\n",
    "line_eq = \"y = \" + str(round(slope,2)) + \"x + \" + str(round(intercept,2))\n",
    "print(f\"Regression line equation is: {line_eq}\")\n",
    "plt.scatter(x_values,y_values)\n",
    "plt.plot(x_values,regress_values,\"r-\")\n",
    "plt.annotate(line_eq,(0,50),fontsize=15,color=\"red\")\n",
    "plt.xlabel('Latitude')\n",
    "plt.ylabel('Max Temperature')\n",
    "print(\"The regression displays a negative correlation.\")\n",
    "print(\"In the nothern hemisphere, as you move away from the equator the temperature decreases.\")\n",
    "print(f\"The r-squared is: {rvalue**2}\")\n",
    "plt.show()"
   ]
  },
  {
   "cell_type": "markdown",
   "metadata": {},
   "source": [
    "####  Southern Hemisphere - Cloudiness (%) vs. Latitude Linear Regression"
   ]
  },
  {
   "cell_type": "code",
   "execution_count": 58,
   "metadata": {},
   "outputs": [
    {
     "name": "stdout",
     "output_type": "stream",
     "text": [
      "Regression line equation is: y = 0.36x + 54.12\n",
      "The regression displays a negative correlation.\n",
      "In the nothern hemisphere, as you move away from the equator the temperature decreases.\n",
      "The r-squared is: 0.021741699687075722\n"
     ]
    },
    {
     "data": {
      "image/png": "[encoded data removed]",
      "text/plain": [
       "<Figure size 432x288 with 1 Axes>"
      ]
     },
     "metadata": {
      "needs_background": "light"
     },
     "output_type": "display_data"
    }
   ],
   "source": [
    "x_values = pd.to_numeric(southern_df['Lat']).astype(float)\n",
    "y_values = pd.to_numeric(southern_df['Cloudiness']).astype(float)\n",
    "(slope, intercept, rvalue, pvalue, stderr) = linregress(x_values, y_values)\n",
    "regress_values = x_values * slope + intercept\n",
    "line_eq = \"y = \" + str(round(slope,2)) + \"x + \" + str(round(intercept,2))\n",
    "print(f\"Regression line equation is: {line_eq}\")\n",
    "plt.scatter(x_values,y_values)\n",
    "plt.plot(x_values,regress_values,\"r-\")\n",
    "plt.annotate(line_eq,(0,50),fontsize=15,color=\"red\")\n",
    "plt.xlabel('Latitude')\n",
    "plt.ylabel('Max Temperature')\n",
    "print(\"The regression displays a negative correlation.\")\n",
    "print(\"In the nothern hemisphere, as you move away from the equator the temperature decreases.\")\n",
    "print(f\"The r-squared is: {rvalue**2}\")\n",
    "plt.show()"
   ]
  },
  {
   "cell_type": "markdown",
   "metadata": {},
   "source": [
    "####  Northern Hemisphere - Wind Speed (mph) vs. Latitude Linear Regression"
   ]
  },
  {
   "cell_type": "code",
   "execution_count": 57,
   "metadata": {},
   "outputs": [
    {
     "name": "stdout",
     "output_type": "stream",
     "text": [
      "Regression line equation is: y = -0.03x + 8.97\n",
      "The regression displays a negative correlation.\n",
      "In the nothern hemisphere, as you move away from the equator the temperature decreases.\n",
      "The r-squared is: 0.01485314353104416\n"
     ]
    },
    {
     "data": {
      "image/png": "[encoded data removed]",
      "text/plain": [
       "<Figure size 432x288 with 1 Axes>"
      ]
     },
     "metadata": {
      "needs_background": "light"
     },
     "output_type": "display_data"
    }
   ],
   "source": [
    "x_values = pd.to_numeric(northern_df['Lat']).astype(float)\n",
    "y_values = pd.to_numeric(northern_df['Windspeed']).astype(float)\n",
    "(slope, intercept, rvalue, pvalue, stderr) = linregress(x_values, y_values)\n",
    "regress_values = x_values * slope + intercept\n",
    "line_eq = \"y = \" + str(round(slope,2)) + \"x + \" + str(round(intercept,2))\n",
    "print(f\"Regression line equation is: {line_eq}\")\n",
    "plt.scatter(x_values,y_values)\n",
    "plt.plot(x_values,regress_values,\"r-\")\n",
    "plt.annotate(line_eq,(0,50),fontsize=15,color=\"red\")\n",
    "plt.xlabel('Latitude')\n",
    "plt.ylabel('Max Temperature')\n",
    "print(\"The regression displays a negative correlation.\")\n",
    "print(\"In the nothern hemisphere, as you move away from the equator the temperature decreases.\")\n",
    "print(f\"The r-squared is: {rvalue**2}\")\n",
    "plt.show()"
   ]
  },
  {
   "cell_type": "markdown",
   "metadata": {},
   "source": [
    "####  Southern Hemisphere - Wind Speed (mph) vs. Latitude Linear Regression"
   ]
  },
  {
   "cell_type": "code",
   "execution_count": 59,
   "metadata": {},
   "outputs": [
    {
     "name": "stdout",
     "output_type": "stream",
     "text": [
      "Regression line equation is: y = -0.14x + 5.79\n",
      "The regression displays a negative correlation.\n",
      "In the nothern hemisphere, as you move away from the equator the temperature decreases.\n",
      "The r-squared is: 0.08815670920123403\n"
     ]
    },
    {
     "data": {
      "image/png": "[encoded data removed]",
      "text/plain": [
       "<Figure size 432x288 with 1 Axes>"
      ]
     },
     "metadata": {
      "needs_background": "light"
     },
     "output_type": "display_data"
    }
   ],
   "source": [
    "x_values = pd.to_numeric(southern_df['Lat']).astype(float)\n",
    "y_values = pd.to_numeric(southern_df['Windspeed']).astype(float)\n",
    "(slope, intercept, rvalue, pvalue, stderr) = linregress(x_values, y_values)\n",
    "regress_values = x_values * slope + intercept\n",
    "line_eq = \"y = \" + str(round(slope,2)) + \"x + \" + str(round(intercept,2))\n",
    "print(f\"Regression line equation is: {line_eq}\")\n",
    "plt.scatter(x_values,y_values)\n",
    "plt.plot(x_values,regress_values,\"r-\")\n",
    "plt.annotate(line_eq,(0,50),fontsize=15,color=\"red\")\n",
    "plt.xlabel('Latitude')\n",
    "plt.ylabel('Max Temperature')\n",
    "print(\"The regression displays a negative correlation.\")\n",
    "print(\"In the nothern hemisphere, as you move away from the equator the temperature decreases.\")\n",
    "print(f\"The r-squared is: {rvalue**2}\")\n",
    "plt.show()"
   ]
  },
  {
   "cell_type": "code",
   "execution_count": null,
   "metadata": {},
   "outputs": [],
   "source": []
  }
 ],
 "metadata": {
  "anaconda-cloud": {},
  "kernel_info": {
   "name": "python3"
  },
  "kernelspec": {
   "display_name": "Python 3",
   "language": "python",
   "name": "python3"
  },
  "language_info": {
   "codemirror_mode": {
    "name": "ipython",
    "version": 3
   },
   "file_extension": ".py",
   "mimetype": "text/x-python",
   "name": "python",
   "nbconvert_exporter": "python",
   "pygments_lexer": "ipython3",
   "version": "3.6.10"
  },
  "latex_envs": {
   "LaTeX_envs_menu_present": true,
   "autoclose": false,
   "autocomplete": true,
   "bibliofile": "biblio.bib",
   "cite_by": "apalike",
   "current_citInitial": 1,
   "eqLabelWithNumbers": true,
   "eqNumInitial": 1,
   "hotkeys": {
    "equation": "Ctrl-E",
    "itemize": "Ctrl-I"
   },
   "labels_anchors": false,
   "latex_user_defs": false,
   "report_style_numbering": false,
   "user_envs_cfg": false
  },
  "nteract": {
   "version": "0.12.3"
  }
 },
 "nbformat": 4,
 "nbformat_minor": 2
}
