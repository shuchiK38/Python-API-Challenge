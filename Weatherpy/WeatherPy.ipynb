{
 "cells": [
  {
   "cell_type": "markdown",
   "metadata": {},
   "source": [
    "# WeatherPy\n",
    "----\n",
    "\n",
    "#### Note\n",
    "* Instructions have been included for each segment. You do not have to follow them exactly, but they are included to help you think through the steps."
   ]
  },
  {
   "cell_type": "code",
   "execution_count": 1,
   "metadata": {
    "scrolled": true
   },
   "outputs": [],
   "source": [
    "# Dependencies and Setup\n",
    "import matplotlib.pyplot as plt\n",
    "import pandas as pd\n",
    "import numpy as np\n",
    "import requests\n",
    "import time\n",
    "from scipy.stats import linregress\n",
    "\n",
    "# Import API key\n",
    "from api_keys import weather_api_key\n",
    "\n",
    "# Incorporated citipy to determine city based on latitude and longitude\n",
    "from citipy import citipy\n",
    "\n",
    "# Output File (CSV)\n",
    "output_data_file = \"output_data/cities.csv\"\n",
    "\n",
    "# Range of latitudes and longitudes\n",
    "lat_range = (-90, 90)\n",
    "lng_range = (-180, 180)"
   ]
  },
  {
   "cell_type": "markdown",
   "metadata": {},
   "source": [
    "## Generate Cities List"
   ]
  },
  {
   "cell_type": "code",
   "execution_count": 2,
   "metadata": {},
   "outputs": [
    {
     "data": {
      "text/plain": [
       "617"
      ]
     },
     "execution_count": 2,
     "metadata": {},
     "output_type": "execute_result"
    }
   ],
   "source": [
    "# List for holding lat_lngs and cities\n",
    "lat_lngs = []\n",
    "cities = []\n",
    "\n",
    "# Create a set of random lat and lng combinations\n",
    "lats = np.random.uniform(lat_range[0], lat_range[1], size=1500)\n",
    "lngs = np.random.uniform(lng_range[0], lng_range[1], size=1500)\n",
    "lat_lngs = zip(lats, lngs)\n",
    "\n",
    "# Identify nearest city for each lat, lng combination\n",
    "for lat_lng in lat_lngs:\n",
    "    city = citipy.nearest_city(lat_lng[0], lat_lng[1]).city_name\n",
    "    \n",
    "    # If the city is unique, then add it to a our cities list\n",
    "    if city not in cities:\n",
    "        cities.append(city)\n",
    "\n",
    "# Print the city count to confirm sufficient count\n",
    "len(cities)"
   ]
  },
  {
   "cell_type": "markdown",
   "metadata": {},
   "source": [
    "### Perform API Calls\n",
    "* Perform a weather check on each city using a series of successive API calls.\n",
    "* Include a print log of each city as it'sbeing processed (with the city number and city name).\n"
   ]
  },
  {
   "cell_type": "code",
   "execution_count": 8,
   "metadata": {
    "scrolled": true
   },
   "outputs": [
    {
     "name": "stdout",
     "output_type": "stream",
     "text": [
      "http://api.openweathermap.org/data/2.5/weather?APPID=d8f90b9ab38ca4b08855bb3e0badf2a5\n",
      "['sentyabrskiy', 'bloemhof', 'illoqqortoormiut', 'port blair', 'sangin', 'mayo', 'busselton', 'riyadh', 'sitka', 'tasiilaq', 'rafai', 'cape town', 'east london', 'shirokiy', 'bluff', 'saint-philippe', 'peniche', 'braslav', 'los llanos de aridane', 'yaypan', 'vardo', 'teguise', 'saskylakh', 'ilulissat', 'hambantota', 'puerto ayora', 'arona', 'taolanaro', 'olafsvik', 'codrington', 'opobo', 'kenai', 'punta arenas', 'avarua', 'constitucion', 'bathsheba', 'norman wells', 'fortuna', 'kavaratti', 'ushuaia', 'dunedin', 'luderitz', 'sinnamary', 'lebu', 'ladario', 'mar del plata', 'salalah', 'kapaa', 'atuona', 'rikitea', 'snyder', 'hermanus', 'tautira', 'awbari', 'mataura', 'the pas', 'longyearbyen', 'san cristobal', 'khatanga', 'port alfred', 'sam phran', 'kurilsk', 'hasaki', 'whitehorse', 'quang ngai', 'shiyan', 'thompson', 'grand gaube', 'tabou', 'prince rupert', 'north bend', 'ondjiva', 'marabba', 'kiunga', 'mrirt', 'jamestown', 'okitipupa', 'oranjemund', 'kuryk', 'baijiantan', 'sembakung', 'quatre cocos', 'tilichiki', 'bilma', 'popondetta', 'mogadishu', 'hurricane', 'barrow', 'utiroa', 'tuktoyaktuk', 'zhigansk', 'hobart', 'nanortalik', 'zhaodong', 'chokurdakh', 'xining', 'cherskiy', 'zlitan', 'berdigestyakh', 'kununurra', 'kavieng', 'albany', 'la ronge', 'georgetown', 'paucartambo', 'black river', 'belushya guba', 'buariki', 'lavrentiya', 'sao felix do xingu', 'sibolga', 'savannah bight', 'caravelas', 'zlobin', 'bambous virieux', 'vaini', 'mana', 'yulara', 'kaeo', 'gwadar', 'aklavik', 'cidreira', 'bismarck', 'buala', 'florianopolis', 'scarborough', 'mys shmidta', 'alihe', 'guerrero negro', 'tsihombe', 'ribeira grande', 'urdzhar', 'chegutu', 'dillon', 'beyneu', 'qaanaaq', 'umzimvubu', 'wattegama', 'vila', 'khash', 'sotnikovo', 'dingle', 'kabompo', 'batouri', 'coro', 'tarusa', 'cumra', 'zabid', 'krasnyy chikoy', 'hobyo', 'airai', 'port lincoln', 'dikson', 'la rioja', 'krasnorechenskiy', 'yeppoon', 'karratha', 'boysun', 'new norfolk', 'denpasar', 'talnakh', 'lasa', 'gemlik', 'tiksi', 'bunia', 'ngunguru', 'amapa', 'port elizabeth', 'hofn', 'bethel', 'hami', 'stepnyak', 'esperance', 'barentsburg', 'coquimbo', 'barra de sao francisco', 'severo-kurilsk', 'palabuhanratu', 'chhindwara', 'gornopravdinsk', 'hay river', 'provideniya', 'torbay', 'istmina', 'butaritari', 'nikolskoye', 'pevek', 'mandera', 'tumannyy', 'amderma', 'petropavlovsk-kamchatskiy', 'porto novo', 'markivka', 'sosnovo-ozerskoye', 'praya', 'bendigo', 'sun city west', 'tevaitoa', 'berlevag', 'kahului', 'bonavista', 'meyungs', 'nome', 'makung', 'korla', 'tignere', 'iqaluit', 'vaitupu', 'isangel', 'kolondieba', 'ananas', 'saleaula', 'seoul', 'narsaq', 'upernavik', 'lao cai', 'san vicente', 'nemuro', 'maues', 'vanimo', 'puerto carreno', 'half moon bay', 'tatarsk', 'rio gallegos', 'juliaca', 'linhares', 'falam', 'atar', 'del rio', 'mandalgovi', 'vero beach', 'miyako', 'tornio', 'lorengau', 'karkaralinsk', 'sovetskiy', 'ostrovnoy', 'cabo san lucas', 'druzhba', 'sept-iles', 'alausi', 'rorvik', 'ust-koksa', 'saint george', 'nelson bay', 'salta', 'rabo de peixe', 'linguere', 'aksu', 'namie', 'yima', 'huntingdon', 'mackay', 'mehamn', 'savannah', 'saint-augustin', 'tasbuget', 'locri', 'sao filipe', 'hilo', 'arlit', 'ekibastuz', 'stokmarknes', 'wawa', 'sakaiminato', 'ancud', 'castro', 'bengkulu', 'bredasdorp', 'nizhneyansk', 'tahoua', 'vangaindrano', 'khandyga', 'toronto', 'mahebourg', 'coihaique', 'pisco', 'krasnokamensk', 'ilovka', 'hualmay', 'andenes', 'pelym', 'gobabis', 'alta floresta', 'kodiak', 'mnogovershinnyy', 'klaksvik', 'makakilo city', 'huaiyin', 'ahipara', 'karaul', 'saldanha', 'urdoma', 'turayf', 'santa rosa', 'mount gambier', 'port hedland', 'tual', 'kruisfontein', 'ellenabad', 'smithers', 'becerril', 'shelburne', 'biak', 'nuuk', 'nurobod', 'hisua', 'lano', 'dolbeau', 'yellowknife', 'kapoeta', 'bontang', 'iquique', 'rumoi', 'richards bay', 'mokhsogollokh', 'maputo', 'svetlaya', 'garden city', 'christchurch', 'carnarvon', 'batticaloa', 'ahuimanu', 'paita', 'baykit', 'villa rica', 'ahome', 'umm kaddadah', 'ranong', 'belle fourche', 'beecher', 'lahij', 'klyuchi', 'balotra', 'ostersund', 'mantua', 'victoria', 'saint anthony', 'ruidoso', 'coahuayana', 'chipata', 'casas grandes', 'talakan', 'attawapiskat', 'fairbanks', 'bogandinskiy', 'praia', 'fare', 'port shepstone', 'manzhouli', 'chuy', 'auki', 'port augusta', 'tadine', 'tarudant', 'nizhniy tagil-39', 'kyzyl-suu', 'maceio', 'san jose', 'kimbe', 'villanueva', 'faanui', 'edinet', 'ornskoldsvik', 'phetchabun', 'marcona', 'bargal', 'saint-leu', 'kysyl-syr', 'dengzhou', 'luau', 'sisimiut', 'bousso', 'mancio lima', 'manzil tamim', 'singapore', 'puerto escondido', 'college', 'vostok', 'naberera', 'flinders', 'alugan', 'boa vista', 'kembe', 'shimoda', 'springdale', 'usinsk', 'irtyshskiy', 'batagay-alyta', 'kita', 'babayurt', 'shitkino', 'krasnoborsk', 'rieti', 'mattawa', 'saint-joseph', 'nantucket', 'easton', 'chokwe', 'abha', 'inirida', 'margate', 'mount isa', 'jacksonville', 'mocambique', 'muhos', 'nishihara', 'anadyr', 'cefa', 'meulaboh', 'pouembout', 'lompoc', 'belmonte', 'vila velha', 'kjopsvik', 'kassala', 'colares', 'maltahohe', 'ishinomaki', 'kasongo-lunda', 'clyde river', 'katherine', 'batagay', 'tuatapere', 'alora', 'te anau', 'zastron', 'dalvik', 'manado', 'syamzha', 'kaitangata', 'karauli', 'methoni', 'soe', 'gambela', 'harper', 'mahibadhoo', 'maldonado', 'narasannapeta', 'grand river south east', 'geraldton', 'cayenne', 'rolim de moura', 'chipinge', 'hithadhoo', 'yining', 'antalaha', 'karasburg', 'havoysund', 'san rafael', 'road town', 'hamilton', 'kerema', 'quelimane', 'havre-saint-pierre', 'ilebo', 'serebryanyy bor', 'khani', 'yarim', 'henties bay', 'molochnoye', 'galiwinku', 'ust-nera', 'awjilah', 'rincon', 'teneguiban', 'malwan', 'iberia', 'alice springs', 'san', 'livingston', 'taoudenni', 'orange cove', 'yerbogachen', 'elko', 'belyy yar', 'alvaraes', 'vestmanna', 'tshikapa', 'araguari', 'katsuura', 'paamiut', 'santa isabel do rio negro', 'oksfjord', 'zonguldak', 'praia da vitoria', 'traralgon', 'touros', 'alto araguaia', 'agadez', 'faya', 'olinda', 'fort nelson', 'kloulklubed', 'alegrete', 'tiznit', 'trairi', 'san juan', 'grand centre', 'hearst', 'ritterhude', 'louisbourg', 'san juan del sur', 'mayumba', 'monrovia', 'namibe', 'liverpool', 'dubbo', 'rudnogorsk', 'waitara', 'samarinda', 'rungata', 'kamenskoye', 'ciudad bolivar', 'chechat', 'surt', 'palauig', 'san patricio', 'charters towers', 'kupang', 'ocos', 'sibu', 'cheuskiny', 'kingisepp', 'vallenar', 'dudinka', 'iranshahr', 'tchibanga', 'leshukonskoye', 'zemio', 'deputatskiy', 'kuche', 'kidal', 'khirkiya', 'jiwani', 'severo-yeniseyskiy', 'bulgan', 'tuy hoa', 'lima', 'colomi', 'beian', 'ambodifototra', 'tyler', 'parthenay', 'amahai', 'bubaque', 'karauzyak', 'timberlake', 'toliary', 'buloh kasap', 'noumea', 'santander', 'kutum', 'inhambane', 'plouzane', 'chifeng', 'tidore', 'qasigiannguit', 'lagoa', 'mazagao', 'ponta delgada', 'khor', 'boulder', 'puerto narino', 'boddam', 'srednekolymsk', 'haines junction', 'uglegorsk', 'sapouy', 'matay', 'baghdad', 'clarksburg', 'masjed-e soleyman', 'gorno-chuyskiy', 'sakakah', 'sagaing', 'bolungarvik', 'arraial do cabo', 'vredendal', 'mwinilunga', 'gold coast', 'przhevalskoye', 'seymchan', 'benalla', 'nobres', 'bedesa', 'satitoa', 'rajura', 'innisfail', 'lata', 'erdenet', 'russell', 'almaznyy', 'leeton', 'clive', 'xinqing', 'quetta', 'tayoltita', 'laguna', 'merrill', 'leningradskiy', 'avera', 'havelock', 'burnie', 'fort dodge', 'ponta do sol', 'xichang', 'bay city', 'juba', 'wanning', 'lugoba', 'comodoro rivadavia', 'jak', 'bedele', 'lipin bor', 'zhezkazgan', 'sioux lookout']\n"
     ]
    }
   ],
   "source": [
    "url = \"http://api.openweathermap.org/data/2.5/weather?APPID=\"+ weather_api_key\n",
    "print(url)\n",
    "print(cities)\n",
    "# set up lists to hold reponse info\n",
    "cities = []\n",
    "lat = []\n",
    "temp = []\n",
    "humidity = []\n",
    "wind  = []\n",
    "\n",
    "# Loop through the list of cities and perform a request for data on each\n",
    "for i in range(len(cities)):\n",
    "    response = requests.get(url +\"&q=\"+cities[i]).json()\n",
    "    print(response)\n",
    "    print(str(i+1) + \".\"+ cities[i])\n",
    "    lat.append(response['coord']['lat'])\n",
    "    temp.append(response['main']['temp'])\n",
    "\n",
    "    humidity.append(response['main']['humidity'])\n",
    "    wind.append(response['wind']['humidity'])\n",
    "    "
   ]
  },
  {
   "cell_type": "markdown",
   "metadata": {},
   "source": [
    "### Convert Raw Data to DataFrame\n",
    "* Export the city data into a .csv.\n",
    "* Display the DataFrame"
   ]
  },
  {
   "cell_type": "code",
   "execution_count": 6,
   "metadata": {},
   "outputs": [
    {
     "name": "stdout",
     "output_type": "stream",
     "text": [
      "{'coord': {'lon': -80.1937, 'lat': 25.7743}, 'weather': [{'id': 801, 'main': 'Clouds', 'description': 'few clouds', 'icon': '02d'}], 'base': 'stations', 'main': {'temp': 302.09, 'feels_like': 307.51, 'temp_min': 299.81, 'temp_max': 304.27, 'pressure': 1021, 'humidity': 79}, 'visibility': 10000, 'wind': {'speed': 0.45, 'deg': 280, 'gust': 1.34}, 'clouds': {'all': 20}, 'dt': 1626957548, 'sys': {'type': 2, 'id': 2009435, 'country': 'US', 'sunrise': 1626950529, 'sunset': 1626999118}, 'timezone': -14400, 'id': 4164138, 'name': 'Miami', 'cod': 200}\n"
     ]
    }
   ],
   "source": [
    "#as citi.py is not working in my computer so checking the api key and url is right\n",
    "\n",
    "url = \"http://api.openweathermap.org/data/2.5/weather?APPID=d8f90b9ab38ca4b08855bb3e0badf2a5\"\n",
    "response = requests.get(url +\"&q=Miami\").json()\n",
    "print(response)"
   ]
  },
  {
   "cell_type": "code",
   "execution_count": 9,
   "metadata": {},
   "outputs": [
    {
     "data": {
      "text/html": [
       "<div>\n",
       "<style scoped>\n",
       "    .dataframe tbody tr th:only-of-type {\n",
       "        vertical-align: middle;\n",
       "    }\n",
       "\n",
       "    .dataframe tbody tr th {\n",
       "        vertical-align: top;\n",
       "    }\n",
       "\n",
       "    .dataframe thead th {\n",
       "        text-align: right;\n",
       "    }\n",
       "</style>\n",
       "<table border=\"1\" class=\"dataframe\">\n",
       "  <thead>\n",
       "    <tr style=\"text-align: right;\">\n",
       "      <th></th>\n",
       "      <th>city</th>\n",
       "      <th>lat</th>\n",
       "      <th>Temp</th>\n",
       "      <th>Humidity</th>\n",
       "      <th>Wind</th>\n",
       "    </tr>\n",
       "  </thead>\n",
       "  <tbody>\n",
       "  </tbody>\n",
       "</table>\n",
       "</div>"
      ],
      "text/plain": [
       "Empty DataFrame\n",
       "Columns: [city, lat, Temp, Humidity, Wind]\n",
       "Index: []"
      ]
     },
     "execution_count": 9,
     "metadata": {},
     "output_type": "execute_result"
    }
   ],
   "source": [
    "#Export the city data into a .csv.\n",
    "#Display the DataFrame\n",
    "\n",
    "weather_dict ={\n",
    "    \"City\": cities,\n",
    "    \"lat\" : lat,\n",
    "    \"Temp\": temp, \n",
    "    \"Humidity\": humidity, \n",
    "    \"Wind\": wind \n",
    "}\n",
    "weather_data = pd.DataFrame(weather_dict)\n",
    "weather_data.head()"
   ]
  },
  {
   "cell_type": "markdown",
   "metadata": {},
   "source": [
    "## Inspect the data and remove the cities where the humidity > 100%.\n",
    "----\n",
    "Skip this step if there are no cities that have humidity > 100%. "
   ]
  },
  {
   "cell_type": "code",
   "execution_count": null,
   "metadata": {},
   "outputs": [],
   "source": []
  },
  {
   "cell_type": "code",
   "execution_count": null,
   "metadata": {},
   "outputs": [],
   "source": [
    "#  Get the indices of cities that have humidity over 100%.\n"
   ]
  },
  {
   "cell_type": "code",
   "execution_count": null,
   "metadata": {},
   "outputs": [],
   "source": [
    "# Make a new DataFrame equal to the city data to drop all humidity outliers by index.\n",
    "# Passing \"inplace=False\" will make a copy of the city_data DataFrame, which we call \"clean_city_data\".\n"
   ]
  },
  {
   "cell_type": "code",
   "execution_count": null,
   "metadata": {},
   "outputs": [],
   "source": [
    "\n"
   ]
  },
  {
   "cell_type": "markdown",
   "metadata": {},
   "source": [
    "## Plotting the Data\n",
    "* Use proper labeling of the plots using plot titles (including date of analysis) and axes labels.\n",
    "* Save the plotted figures as .pngs."
   ]
  },
  {
   "cell_type": "markdown",
   "metadata": {},
   "source": [
    "## Latitude vs. Temperature Plot"
   ]
  },
  {
   "cell_type": "code",
   "execution_count": null,
   "metadata": {
    "scrolled": true
   },
   "outputs": [],
   "source": []
  },
  {
   "cell_type": "markdown",
   "metadata": {},
   "source": [
    "## Latitude vs. Humidity Plot"
   ]
  },
  {
   "cell_type": "code",
   "execution_count": null,
   "metadata": {},
   "outputs": [],
   "source": []
  },
  {
   "cell_type": "markdown",
   "metadata": {},
   "source": [
    "## Latitude vs. Cloudiness Plot"
   ]
  },
  {
   "cell_type": "code",
   "execution_count": null,
   "metadata": {},
   "outputs": [],
   "source": []
  },
  {
   "cell_type": "markdown",
   "metadata": {},
   "source": [
    "## Latitude vs. Wind Speed Plot"
   ]
  },
  {
   "cell_type": "code",
   "execution_count": null,
   "metadata": {},
   "outputs": [],
   "source": []
  },
  {
   "cell_type": "markdown",
   "metadata": {},
   "source": [
    "## Linear Regression"
   ]
  },
  {
   "cell_type": "code",
   "execution_count": null,
   "metadata": {},
   "outputs": [],
   "source": []
  },
  {
   "cell_type": "markdown",
   "metadata": {},
   "source": [
    "####  Northern Hemisphere - Max Temp vs. Latitude Linear Regression"
   ]
  },
  {
   "cell_type": "code",
   "execution_count": null,
   "metadata": {},
   "outputs": [],
   "source": []
  },
  {
   "cell_type": "markdown",
   "metadata": {},
   "source": [
    "####  Southern Hemisphere - Max Temp vs. Latitude Linear Regression"
   ]
  },
  {
   "cell_type": "code",
   "execution_count": null,
   "metadata": {},
   "outputs": [],
   "source": []
  },
  {
   "cell_type": "markdown",
   "metadata": {},
   "source": [
    "####  Northern Hemisphere - Humidity (%) vs. Latitude Linear Regression"
   ]
  },
  {
   "cell_type": "code",
   "execution_count": null,
   "metadata": {},
   "outputs": [],
   "source": []
  },
  {
   "cell_type": "markdown",
   "metadata": {},
   "source": [
    "####  Southern Hemisphere - Humidity (%) vs. Latitude Linear Regression"
   ]
  },
  {
   "cell_type": "code",
   "execution_count": null,
   "metadata": {},
   "outputs": [],
   "source": []
  },
  {
   "cell_type": "markdown",
   "metadata": {},
   "source": [
    "####  Northern Hemisphere - Cloudiness (%) vs. Latitude Linear Regression"
   ]
  },
  {
   "cell_type": "code",
   "execution_count": null,
   "metadata": {},
   "outputs": [],
   "source": []
  },
  {
   "cell_type": "markdown",
   "metadata": {},
   "source": [
    "####  Southern Hemisphere - Cloudiness (%) vs. Latitude Linear Regression"
   ]
  },
  {
   "cell_type": "code",
   "execution_count": null,
   "metadata": {},
   "outputs": [],
   "source": []
  },
  {
   "cell_type": "markdown",
   "metadata": {},
   "source": [
    "####  Northern Hemisphere - Wind Speed (mph) vs. Latitude Linear Regression"
   ]
  },
  {
   "cell_type": "code",
   "execution_count": null,
   "metadata": {},
   "outputs": [],
   "source": []
  },
  {
   "cell_type": "markdown",
   "metadata": {},
   "source": [
    "####  Southern Hemisphere - Wind Speed (mph) vs. Latitude Linear Regression"
   ]
  },
  {
   "cell_type": "code",
   "execution_count": null,
   "metadata": {},
   "outputs": [],
   "source": []
  },
  {
   "cell_type": "code",
   "execution_count": null,
   "metadata": {},
   "outputs": [],
   "source": []
  }
 ],
 "metadata": {
  "anaconda-cloud": {},
  "kernel_info": {
   "name": "python3"
  },
  "kernelspec": {
   "display_name": "Python 3",
   "language": "python",
   "name": "python3"
  },
  "language_info": {
   "codemirror_mode": {
    "name": "ipython",
    "version": 3
   },
   "file_extension": ".py",
   "mimetype": "text/x-python",
   "name": "python",
   "nbconvert_exporter": "python",
   "pygments_lexer": "ipython3",
   "version": "3.6.10"
  },
  "latex_envs": {
   "LaTeX_envs_menu_present": true,
   "autoclose": false,
   "autocomplete": true,
   "bibliofile": "biblio.bib",
   "cite_by": "apalike",
   "current_citInitial": 1,
   "eqLabelWithNumbers": true,
   "eqNumInitial": 1,
   "hotkeys": {
    "equation": "Ctrl-E",
    "itemize": "Ctrl-I"
   },
   "labels_anchors": false,
   "latex_user_defs": false,
   "report_style_numbering": false,
   "user_envs_cfg": false
  },
  "nteract": {
   "version": "0.12.3"
  }
 },
 "nbformat": 4,
 "nbformat_minor": 2
}
